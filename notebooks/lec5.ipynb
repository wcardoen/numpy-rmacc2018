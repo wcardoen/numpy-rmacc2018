{
 "cells": [
  {
   "cell_type": "markdown",
   "metadata": {},
   "source": [
    "# Lecture 5"
   ]
  },
  {
   "cell_type": "code",
   "execution_count": 1,
   "metadata": {},
   "outputs": [
    {
     "name": "stdout",
     "output_type": "stream",
     "text": [
      "Check versions:\n",
      "  numpy version     :'1.14.2'\n",
      "  matplotlib version:'2.2.2'\n"
     ]
    }
   ],
   "source": [
    "%run set_env.py\n",
    "%matplotlib inline"
   ]
  },
  {
   "cell_type": "markdown",
   "metadata": {},
   "source": [
    "### Universal Functions (UFuncs)"
   ]
  },
  {
   "cell_type": "markdown",
   "metadata": {},
   "source": [
    "A <font color=\"green\"><b>universal function (ufunc)</b></font> is:\n",
    "* a function which operates on an ndarray array in an <font color=\"green\"><b>element-by-element</b></font> fashion\n",
    "* an instance of the numpy.ufunc class\n",
    "* a function of which many are implemented in compiled C code\n",
    "* to which broadcasting rules are applied. \n",
    "\n",
    "The concept is similar to the <a href=\"https://docs.python.org/3/library/functions.html#map\">map function</a> in standard Python."
   ]
  },
  {
   "cell_type": "markdown",
   "metadata": {},
   "source": [
    "#### Some ufuncs within NumPy: "
   ]
  },
  {
   "cell_type": "markdown",
   "metadata": {},
   "source": [
    "* Math operations:\n",
    "  * add(x1,x2)   (called when invoked a+b)\n",
    "  * power(x1,x2) (same as '**')\n",
    "  * mod(x1,x2)\n",
    "  * exp(x)\n",
    "  * sqrt(x)\n",
    "  * log(x)  (Napierian/natural logarithm)\n",
    "  * ...\n",
    "* Trig operations:\n",
    "  * sin(x)\n",
    "  * sinh(x)\n",
    "  * arcsinh(x)\n",
    "  * deg2rad(x)\n",
    "  * rad2deg(x)\n",
    "  * ..\n",
    "* Bit-twiddling operations:\n",
    "  * bitwise_and(x1,x2)\n",
    "  * ...\n",
    "* Comparison functions:\n",
    "  * greater(x1,x2) (called when x1>x2 is invoked)\n",
    "  * not_equal(x1,x2) (called when x1!=x2 is invoked)\n",
    "  * maximum(x1,x2)  (el.-wise max.)\n",
    "  * isfinite(x)   (el. test for finiteness i.e. neither Infinity nor Not a Number)\n",
    "  * isinf(x)\n",
    "  * isnan(x)\n",
    "  * ...\n",
    "  \n",
    "To see all the available ufuncs, see:<br>  \n",
    "https://docs.scipy.org/doc/numpy-1.13.0/reference/ufuncs.html#available-ufuncs"
   ]
  },
  {
   "cell_type": "markdown",
   "metadata": {},
   "source": [
    "<font color=\"blue\"><b>Note:</b></font>\n",
    "* One can write its own UFunc -> C-API"
   ]
  },
  {
   "cell_type": "markdown",
   "metadata": {},
   "source": [
    "#### Examples/Applications of UFuncs:"
   ]
  },
  {
   "cell_type": "code",
   "execution_count": 2,
   "metadata": {},
   "outputs": [
    {
     "name": "stdout",
     "output_type": "stream",
     "text": [
      " x:\n",
      "[[[0.67717 0.40759 0.89258 0.99913 0.66119 0.37439 0.13608]\n",
      "  [0.08549 0.34585 0.54449 0.75128 0.35557 0.68791 0.10813]\n",
      "  [0.88708 0.29722 0.31589 0.0403  0.40033 0.36847 0.35379]]\n",
      "\n",
      " [[0.63127 0.86302 0.17734 0.1493  0.13006 0.03925 0.99248]\n",
      "  [0.60053 0.70405 0.4499  0.16885 0.55148 0.41493 0.46195]\n",
      "  [0.05224 0.62463 0.43877 0.91339 0.33009 0.85882 0.88347]]]\n",
      "\n",
      " y:\n",
      "[[[1.9683  1.50319 2.44142 2.71593 1.9371  1.45411 1.14578]\n",
      "  [1.08925 1.41319 1.72373 2.11971 1.42699 1.98956 1.11419]\n",
      "  [2.42803 1.34611 1.37148 1.04112 1.49231 1.44553 1.42445]]\n",
      "\n",
      " [[1.88    2.37031 1.19404 1.16103 1.13889 1.04003 2.69792]\n",
      "  [1.82308 2.02192 1.56815 1.18394 1.73581 1.51426 1.58716]\n",
      "  [1.05363 1.86756 1.55081 2.49276 1.39109 2.36037 2.41929]]]\n",
      "\n"
     ]
    }
   ],
   "source": [
    "# Example 1: no BC\n",
    "np.set_printoptions(precision=5)\n",
    "import numpy as np\n",
    "x = np.random.random((2,3,7))\n",
    "y = np.exp(x)\n",
    "print(\" x:\\n{0}\\n\".format(x))\n",
    "print(\" y:\\n{0}\\n\".format(y))"
   ]
  },
  {
   "cell_type": "code",
   "execution_count": 3,
   "metadata": {},
   "outputs": [
    {
     "name": "stdout",
     "output_type": "stream",
     "text": [
      "  x:(13,)\n",
      "[ 90  91  92  93  94  95  96  97  98  99 100 101 102]\n",
      "\n",
      "  y:(5, 1)\n",
      "[[2]\n",
      " [3]\n",
      " [4]\n",
      " [5]\n",
      " [6]]\n",
      "\n",
      "  z:(5, 13)\n",
      "[[0 1 0 1 0 1 0 1 0 1 0 1 0]\n",
      " [0 1 2 0 1 2 0 1 2 0 1 2 0]\n",
      " [2 3 0 1 2 3 0 1 2 3 0 1 2]\n",
      " [0 1 2 3 4 0 1 2 3 4 0 1 2]\n",
      " [0 1 2 3 4 5 0 1 2 3 4 5 0]]\n",
      "\n"
     ]
    }
   ],
   "source": [
    "# Example 2: with BC\n",
    "x=np.arange(90,103,dtype=int)\n",
    "y=np.arange(2,7,dtype=int).reshape((5,1))\n",
    "print(\"  x:{0}\\n{1}\\n\".format(x.shape,x))\n",
    "print(\"  y:{0}\\n{1}\\n\".format(y.shape,y))\n",
    "z=np.mod(x,y)\n",
    "print(\"  z:{0}\\n{1}\\n\".format(z.shape,z))"
   ]
  },
  {
   "cell_type": "markdown",
   "metadata": {},
   "source": [
    "### Reductions on ndarrays"
   ]
  },
  {
   "cell_type": "markdown",
   "metadata": {},
   "source": [
    "* Besides Numpy functions which operate on ndarrays <font color=\"green\"><b>element-wise</b></font> (UFuncs, vide supra),<br>\n",
    "  there are also Numpy functions which perform <font color=\"green\"><b>reductions</b></font> on ndarrays. \n",
    "\n",
    "* By <font color=\"green\"><b>default</b></font>, the reductions operate on the <font color=\"green\"><b>whole</b></font> ndarray.\n",
    "  \n",
    "* However, we can specify a particular <font color=\"green\"><b>axis/dimension</b></font> on which to perform the reduction.  \n",
    "\n",
    "* The functions all have a similar syntax:<br>\n",
    "  numpy.func_name(a,[axis=None],[dtype=None],[out=None])<br>\n",
    "  The function <font color=\"green\"><b>func_name</b></font> can be called in 2 different ways:\n",
    "  * a.func_name()    # <font color=\"blue\"><b>Object-Oriented way</b></font> i.e. method associated to an object\n",
    "  * np.func_name(a)  # <font color=\"blue\"><b>Procedural way</b></font> i.e. array is an argument of the function"
   ]
  },
  {
   "cell_type": "markdown",
   "metadata": {},
   "source": [
    "#### Mathematical Operations:\n",
    "* numpy.sum(), numpy.cumsum()    : sum vs. cumulative sum\n",
    "* numpy.prod(), numpy.cumprod()  : prod vs. cumulative product\n",
    "* numpy.min(), numpy.max()       : min, max of a vector\n",
    "* numpy.argmin(), numpy.argmax() : return indices of the min./max. values"
   ]
  },
  {
   "cell_type": "markdown",
   "metadata": {},
   "source": [
    "#### Statistical Operations:\n",
    "* numpy.mean, numpy.median : average, median\n",
    "* numpy.std, numpy.var     : standard deviation, variance"
   ]
  },
  {
   "cell_type": "markdown",
   "metadata": {},
   "source": [
    "#### Logical Operations:\n",
    "* numpy.any(): Test whether ANY el. along a given axis evaluates to True\n",
    "* numpy.all(): Test whether ALL el. along a given axis evaluate to True"
   ]
  },
  {
   "cell_type": "markdown",
   "metadata": {},
   "source": [
    "#### Examples"
   ]
  },
  {
   "cell_type": "markdown",
   "metadata": {},
   "source": [
    "###### Example 1:"
   ]
  },
  {
   "cell_type": "code",
   "execution_count": 4,
   "metadata": {},
   "outputs": [
    {
     "name": "stdout",
     "output_type": "stream",
     "text": [
      "  a:\n",
      "[[[ 1  2  3  4]\n",
      "  [ 5  6  7  8]\n",
      "  [ 9 10 11 12]]\n",
      "\n",
      " [[13 14 15 16]\n",
      "  [17 18 19 20]\n",
      "  [21 22 23 24]]]\n",
      "\n",
      "  a.shape:(2, 3, 4)\n",
      "\n",
      "  a.sum() (Object-oriented syntax):\n",
      "300\n",
      "\n",
      "  np.sum(a) (Procedural syntax)  :\n",
      "300\n",
      "\n"
     ]
    }
   ],
   "source": [
    "# Example 1: \n",
    "# Invoke sum over the complete ndarray\n",
    "a = np.arange(1,25).reshape((2,3,4))\n",
    "print(\"  a:\\n{0}\\n\".format(a))\n",
    "print(\"  a.shape:{0}\\n\".format(a.shape))\n",
    "print(\"  a.sum() (Object-oriented syntax):\\n{0}\\n\".format(a.sum()))\n",
    "print(\"  np.sum(a) (Procedural syntax)  :\\n{0}\\n\".format(np.sum(a)))"
   ]
  },
  {
   "cell_type": "code",
   "execution_count": 5,
   "metadata": {},
   "outputs": [
    {
     "name": "stdout",
     "output_type": "stream",
     "text": [
      "   a.sum(axis=0):\n",
      "[[14 16 18 20]\n",
      " [22 24 26 28]\n",
      " [30 32 34 36]]\n",
      "\n",
      "   a.sum(axis=1):\n",
      "[[15 18 21 24]\n",
      " [51 54 57 60]]\n",
      "\n",
      "   a.sum(axis=2):\n",
      "[[10 26 42]\n",
      " [58 74 90]]\n",
      "\n"
     ]
    }
   ],
   "source": [
    "# Invoke sums over certain axes\n",
    "a = np.arange(1,25).reshape((2,3,4))\n",
    "print(\"   a.sum(axis=0):\\n{0}\\n\".format(a.sum(axis=0)))\n",
    "print(\"   a.sum(axis=1):\\n{0}\\n\".format(a.sum(axis=1)))\n",
    "print(\"   a.sum(axis=2):\\n{0}\\n\".format(a.sum(axis=2)))"
   ]
  },
  {
   "cell_type": "markdown",
   "metadata": {},
   "source": [
    "###### Example 2:"
   ]
  },
  {
   "cell_type": "code",
   "execution_count": 6,
   "metadata": {},
   "outputs": [
    {
     "name": "stdout",
     "output_type": "stream",
     "text": [
      "  b:\n",
      "[[0.3591 0.2812 0.7601 0.6573 0.8194 0.5647 0.4524]\n",
      " [0.8494 0.1436 0.2931 0.3169 0.1114 0.0628 0.9121]\n",
      " [0.4947 0.7664 0.2943 0.1896 0.2197 0.1752 0.3498]]\n",
      "\n",
      "  b.shape:(3, 7)\n",
      "\n",
      "  b.mean(axis=0):\n",
      "[0.5677 0.3971 0.4492 0.3879 0.3835 0.2676 0.5715]\n",
      "\n",
      "  bool_matrix:\n",
      "[[False False False False False False False]\n",
      " [False False False False False False False]\n",
      " [False False False False False False False]]\n",
      "\n",
      "  Are they any values < 0.01? False\n"
     ]
    }
   ],
   "source": [
    "np.set_printoptions(precision=4)\n",
    "b = rnd.random((3,7))\n",
    "print(\"  b:\\n{0}\\n\".format(b))\n",
    "print(\"  b.shape:{0}\\n\".format(b.shape))\n",
    "\n",
    "av = b.mean(axis=0)\n",
    "print(\"  b.mean(axis=0):\\n{0}\\n\".format(av))\n",
    "\n",
    "bool_matrix = b < 0.01\n",
    "print(\"  bool_matrix:\\n{0}\\n\".format(bool_matrix))\n",
    "print(\"  Are they any values < 0.01? {0}\".format(bool_matrix.any()))"
   ]
  },
  {
   "cell_type": "markdown",
   "metadata": {},
   "source": [
    "### Exercises:"
   ]
  },
  {
   "cell_type": "markdown",
   "metadata": {},
   "source": [
    "* Generate the following vector [ 1, 3, 9, 27, ... , 729] using a UFunc.\n",
    " \n",
    "* Generate a 5x10 array A with random numbers $x$ $\\in$ $[0,1[$.\n",
    "  * What is the maximum value for all $x$ in A?\n",
    "  * What is the minimum value in each column?\n",
    "  * What is the minimum value in the fourth row?\n",
    "  * Are there any random numbers $x<\\alpha$ or $x>\\beta$?<br>You can set $\\alpha:=0.02$ and $\\beta:=0.98$\n",
    "  \n",
    "* Write the function *calc_sn(n)* (<font color=\"red\">**without the use of for loops!**</font>): \n",
    "  * The function *calc_sn(n)* returns an array of partial sums $S_n$ ($n>0$) given by:<br>\n",
    "    $\\begin{equation*}\n",
    "      S_n := \\sum_{k=1}^{k=n} \\frac{sin(k)}{k^2} \n",
    "      \\end{equation*}\n",
    "    $ \n",
    "  * Generate the plot $S_n$ where $n$ $\\in$ $\\{1,\\ldots,100\\}$ to visualize the absolute convergency of the series.    \n",
    "\n",
    "  "
   ]
  },
  {
   "cell_type": "markdown",
   "metadata": {},
   "source": [
    "### Solutions:"
   ]
  },
  {
   "cell_type": "code",
   "execution_count": 44,
   "metadata": {
    "collapsed": true
   },
   "outputs": [],
   "source": [
    "# %load ../solutions/ex5.py"
   ]
  }
 ],
 "metadata": {
  "kernelspec": {
   "display_name": "Python 3",
   "language": "python",
   "name": "python3"
  },
  "language_info": {
   "codemirror_mode": {
    "name": "ipython",
    "version": 3
   },
   "file_extension": ".py",
   "mimetype": "text/x-python",
   "name": "python",
   "nbconvert_exporter": "python",
   "pygments_lexer": "ipython3",
   "version": "3.6.4"
  }
 },
 "nbformat": 4,
 "nbformat_minor": 2
}
