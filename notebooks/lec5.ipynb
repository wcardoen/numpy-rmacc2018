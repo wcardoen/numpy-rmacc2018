{
 "cells": [
  {
   "cell_type": "markdown",
   "metadata": {},
   "source": [
    "# Lecture 5"
   ]
  },
  {
   "cell_type": "code",
   "execution_count": null,
   "metadata": {},
   "outputs": [],
   "source": [
    "%run set_env.py\n",
    "%matplotlib inline"
   ]
  },
  {
   "cell_type": "markdown",
   "metadata": {},
   "source": [
    "### Universal Functions (UFuncs)"
   ]
  },
  {
   "cell_type": "markdown",
   "metadata": {},
   "source": [
    "A <font color=\"green\"><b>universal function (ufunc)</b></font> is:\n",
    "* a function which operates on an ndarray object in an <font color=\"green\"><b>element-by-element</b></font> fashion\n",
    "* an instance of the numpy.ufunc class\n",
    "* a function of which many are implemented in compiled C code\n",
    "* to which broadcasting rules are applied. \n",
    "\n",
    "The concept is similar to the <a href=\"https://docs.python.org/3/library/functions.html#map\">map function</a> in standard Python."
   ]
  },
  {
   "cell_type": "markdown",
   "metadata": {},
   "source": [
    "#### Some ufuncs within NumPy: "
   ]
  },
  {
   "cell_type": "markdown",
   "metadata": {},
   "source": [
    "* Math operations:\n",
    "  * add(x1,x2)   (called when invoked a+b)\n",
    "  * power(x1,x2) (same as '**')\n",
    "  * mod(x1,x2)\n",
    "  * exp(x)\n",
    "  * sqrt(x)\n",
    "  * log(x)  (Napierian/natural logarithm)\n",
    "  * ...\n",
    "* Trig operations:\n",
    "  * sin(x)\n",
    "  * sinh(x)\n",
    "  * arcsinh(x)\n",
    "  * deg2rad(x)\n",
    "  * rad2deg(x)\n",
    "  * ..\n",
    "* Bit-twiddling operations:\n",
    "  * bitwise_and(x1,x2)\n",
    "  * ...\n",
    "* Comparison functions:\n",
    "  * greater(x1,x2) (called when x1>x2 is invoked)\n",
    "  * not_equal(x1,x2) (called when x1!=x2 is invoked)\n",
    "  * maximum(x1,x2)  (el.-wise max.)\n",
    "  * isfinite(x)   (el. test for finiteness i.e. neither Infinity nor Not a Number)\n",
    "  * isinf(x)\n",
    "  * isnan(x)\n",
    "  * ...\n",
    "  \n",
    "To see all the available ufuncs, see:<br>  \n",
    "https://docs.scipy.org/doc/numpy-1.13.0/reference/ufuncs.html#available-ufuncs"
   ]
  },
  {
   "cell_type": "markdown",
   "metadata": {},
   "source": [
    "<font color=\"blue\"><b>Note:</b></font>\n",
    "* One can write its own UFunc -> C-API"
   ]
  },
  {
   "cell_type": "markdown",
   "metadata": {},
   "source": [
    "#### Examples/Applications of UFuncs:"
   ]
  },
  {
   "cell_type": "code",
   "execution_count": null,
   "metadata": {},
   "outputs": [],
   "source": [
    "# Example 1: no BC\n",
    "np.set_printoptions(precision=5)\n",
    "import numpy as np\n",
    "x = np.random.random((2,3,7))\n",
    "y = np.exp(x)\n",
    "print(\" x:\\n{0}\\n\".format(x))\n",
    "print(\" y:\\n{0}\\n\".format(y))"
   ]
  },
  {
   "cell_type": "code",
   "execution_count": null,
   "metadata": {},
   "outputs": [],
   "source": [
    "# Example 2: with BC\n",
    "x=np.arange(90,103,dtype=int)\n",
    "y=np.arange(2,7,dtype=int).reshape((5,1))\n",
    "print(\"  x:{0}\\n{1}\\n\".format(x.shape,x))\n",
    "print(\"  y:{0}\\n{1}\\n\".format(y.shape,y))\n",
    "z=np.mod(x,y)\n",
    "print(\"  z:{0}\\n{1}\\n\".format(z.shape,z))"
   ]
  },
  {
   "cell_type": "markdown",
   "metadata": {},
   "source": [
    "### Reductions on ndarrays"
   ]
  },
  {
   "cell_type": "markdown",
   "metadata": {},
   "source": [
    "* Besides Numpy functions which operate on ndarrays <font color=\"green\"><b>element-wise</b></font> (UFuncs, vide supra),<br>\n",
    "  there are also Numpy functions which perform <font color=\"green\"><b>reductions</b></font> on ndarrays. \n",
    "\n",
    "* By <font color=\"green\"><b>default</b></font>, the reductions operate on the <font color=\"green\"><b>whole</b></font> ndarray.\n",
    "  \n",
    "* However, we can specify a particular <font color=\"green\"><b>axis/dimension</b></font> on which to perform the reduction.  \n",
    "\n",
    "* The functions all have a similar syntax:<br>\n",
    "  numpy.func_name(a,[axis=None],[dtype=None],[out=None])<br>\n",
    "  The function <font color=\"green\"><b>func_name</b></font> can be called in 2 different ways:\n",
    "  * a.func_name()    # <font color=\"blue\"><b>Object-Oriented way</b></font> i.e. method associated to an object\n",
    "  * np.func_name(a)  # <font color=\"blue\"><b>Procedural way</b></font> i.e. array is an argument of the function"
   ]
  },
  {
   "cell_type": "markdown",
   "metadata": {},
   "source": [
    "#### Mathematical Operations:\n",
    "* numpy.sum(), numpy.cumsum()    : sum vs. cumulative sum\n",
    "* numpy.prod(), numpy.cumprod()  : prod vs. cumulative product\n",
    "* numpy.min(), numpy.max()       : min, max of a vector\n",
    "* numpy.argmin(), numpy.argmax() : return indices of the min./max. values"
   ]
  },
  {
   "cell_type": "markdown",
   "metadata": {},
   "source": [
    "#### Statistical Operations:\n",
    "* numpy.mean, numpy.median : average, median\n",
    "* numpy.std, numpy.var     : standard deviation, variance"
   ]
  },
  {
   "cell_type": "markdown",
   "metadata": {},
   "source": [
    "#### Logical Operations:\n",
    "* numpy.any(): Test whether ANY el. along a given axis evaluates to True\n",
    "* numpy.all(): Test whether ALL el. along a given axis evaluate to True"
   ]
  },
  {
   "cell_type": "markdown",
   "metadata": {},
   "source": [
    "#### Examples"
   ]
  },
  {
   "cell_type": "markdown",
   "metadata": {},
   "source": [
    "###### Example 1:"
   ]
  },
  {
   "cell_type": "code",
   "execution_count": null,
   "metadata": {},
   "outputs": [],
   "source": [
    "# Example 1: \n",
    "# Invoke sum over the complete ndarray\n",
    "a = np.arange(1,25).reshape((2,3,4))\n",
    "print(\"  a:\\n{0}\\n\".format(a))\n",
    "print(\"  a.shape:{0}\\n\".format(a.shape))\n",
    "print(\"  a.sum() (Object-oriented syntax):\\n{0}\\n\".format(a.sum()))\n",
    "print(\"  np.sum(a) (Procedural syntax)  :\\n{0}\\n\".format(np.sum(a)))"
   ]
  },
  {
   "cell_type": "code",
   "execution_count": null,
   "metadata": {},
   "outputs": [],
   "source": [
    "# Invoke sums over certain axes\n",
    "a = np.arange(1,25).reshape((2,3,4))\n",
    "red0 = a.sum(axis=0)\n",
    "print(\"   a.sum(axis=0)   shape:{0}:\\n{1}\\n\".format(red0.shape, red0))\n",
    "red1 = a.sum(axis=1)\n",
    "print(\"   a.sum(axis=1)   shape:{0}:\\n{1}\\n\".format(red1.shape, red1))\n",
    "red2 = a.sum(axis=2)\n",
    "print(\"   a.sum(axis=2)   shape:{0}:\\n{1}\\n\".format(red2.shape, red2))"
   ]
  },
  {
   "cell_type": "markdown",
   "metadata": {},
   "source": [
    "###### Example 2:"
   ]
  },
  {
   "cell_type": "code",
   "execution_count": null,
   "metadata": {},
   "outputs": [],
   "source": [
    "np.set_printoptions(precision=4)\n",
    "b = rnd.random((3,7))\n",
    "print(\"  b:\\n{0}\\n\".format(b))\n",
    "print(\"  b.shape:{0}\\n\".format(b.shape))\n",
    "\n",
    "av = b.mean(axis=0)\n",
    "print(\"  b.mean(axis=0):\\n{0}\\n\".format(av))\n",
    "\n",
    "bool_matrix = b < 0.01\n",
    "print(\"  bool_matrix:\\n{0}\\n\".format(bool_matrix))\n",
    "print(\"  Are they any values < 0.01? {0}\".format(bool_matrix.any()))"
   ]
  },
  {
   "cell_type": "markdown",
   "metadata": {},
   "source": [
    "### Exercises:"
   ]
  },
  {
   "cell_type": "markdown",
   "metadata": {},
   "source": [
    "* Generate the following vector [ 1, 3, 9, 27, ... , 729] using a UFunc.\n",
    " \n",
    "* Generate a 5x10 array A with random numbers $x$ $\\in$ $[0,1[$.\n",
    "  * What is the maximum value for all $x$ in A?\n",
    "  * What is the minimum value in each column?\n",
    "  * What is the minimum value in the fourth row?\n",
    "  * Are there any random numbers $x<\\alpha$ or $x>\\beta$?<br>You can set $\\alpha:=0.02$ and $\\beta:=0.98$\n",
    "  \n",
    "* Write the function *calc_sn(n)* (<font color=\"red\">**without the use of for loops!**</font>): \n",
    "  * The function *calc_sn(n)* returns an array of partial sums $S_n$ ($n>0$) given by:<br>\n",
    "    $\\begin{equation*}\n",
    "      S_n := \\sum_{k=1}^{k=n} \\frac{sin(k)}{k^2} \n",
    "      \\end{equation*}\n",
    "    $ \n",
    "  * Generate the plot $S_n$ where $n$ $\\in$ $\\{1,\\ldots,100\\}$ to visualize the absolute convergency of the series.    \n",
    "\n",
    "  "
   ]
  },
  {
   "cell_type": "markdown",
   "metadata": {},
   "source": [
    "### Solutions:"
   ]
  },
  {
   "cell_type": "code",
   "execution_count": 3,
   "metadata": {},
   "outputs": [
    {
     "name": "stdout",
     "output_type": "stream",
     "text": [
      "Exercise 5::\n",
      "  5.1:\n",
      "  x:\n",
      "[1 2 3 4 5 6]\n",
      "\n",
      "    Solution 1:\n",
      "  y:\n",
      "[  3   9  27  81 243 729]\n",
      "\n",
      "    Solution 2:\n",
      "  y:\n",
      "[  3   9  27  81 243 729]\n",
      "\n",
      "  5.2:\n",
      "  A:\n",
      "[[0.36009 0.89584 0.85177 0.8146  0.5502  0.54849 0.55927 0.41284 0.95351\n",
      "  0.65556]\n",
      " [0.50098 0.55771 0.54587 0.89204 0.98126 0.13402 0.2357  0.07755 0.72112\n",
      "  0.23926]\n",
      " [0.35472 0.96616 0.00585 0.85005 0.45349 0.51279 0.24053 0.34668 0.22611\n",
      "  0.67653]\n",
      " [0.04231 0.2799  0.74452 0.50974 0.99939 0.03197 0.27216 0.33741 0.8992\n",
      "  0.03639]\n",
      " [0.01097 0.73211 0.08553 0.873   0.87287 0.61701 0.74351 0.9248  0.15424\n",
      "  0.24051]]\n",
      "\n",
      "  Max val for all of A:\n",
      "0.9993929425345801\n",
      "\n",
      "  Min. val in each column:\n",
      "[0.01097 0.2799  0.00585 0.50974 0.45349 0.03197 0.2357  0.07755 0.15424\n",
      " 0.03639]\n",
      "\n",
      "  Min. val in fourth row:\n",
      "0.03196846621842875\n",
      "\n",
      "  Boolean Matrix:\n",
      "[[False False False False False False False False False False]\n",
      " [False False False False  True False False False False False]\n",
      " [False False  True False False False False False False False]\n",
      " [False False False False  True False False False False False]\n",
      " [ True False False False False False False False False False]]\n",
      "\n",
      "  Any val <0.02 or >0.98? True\n",
      "\n",
      "  Corresponding values:\n",
      "[0.98126 0.00585 0.99939 0.01097]\n",
      "\n",
      "  5.3:\n"
     ]
    },
    {
     "data": {
      "image/png": "[encoded data removed]",
      "text/plain": [
       "<Figure size 432x288 with 1 Axes>"
      ]
     },
     "metadata": {},
     "output_type": "display_data"
    }
   ],
   "source": [
    "# %load ../solutions/ex5.py\n",
    "import math\n",
    "import numpy as np\n",
    "import numpy.random as rnd\n",
    "import matplotlib.pyplot as plt\n",
    "np.set_printoptions(precision=5)\n",
    "\n",
    "\n",
    "print(\"Exercise 5::\")\n",
    "print(\"  5.1:\")\n",
    "x = np.arange(1,7)\n",
    "print(\"  x:\\n{0}\\n\".format(x))\n",
    "print(\"    Solution 1:\")\n",
    "y = np.power(3,x)\n",
    "print(\"  y:\\n{0}\\n\".format(y))\n",
    "\n",
    "print(\"    Solution 2:\")\n",
    "y = 3**x\n",
    "print(\"  y:\\n{0}\\n\".format(y))\n",
    "\n",
    "\n",
    "print(\"  5.2:\")\n",
    "A = rnd.random((5,10))\n",
    "print(\"  A:\\n{0}\\n\".format(A)) \n",
    "\n",
    "max_val = A.max()\n",
    "print(\"  Max val for all of A:\\n{0}\\n\".format(max_val))\n",
    "\n",
    "min_val_eachcol = A.min(axis=0) \n",
    "print(\"  Min. val in each column:\\n{0}\\n\".format(min_val_eachcol))\n",
    "\n",
    "min_val_fourthrow = A[3,:].min()\n",
    "print(\"  Min. val in fourth row:\\n{0}\\n\".format(min_val_fourthrow))\n",
    "\n",
    "bool_mat = (A < 0.02) | (A > 0.98)\n",
    "print(\"  Boolean Matrix:\\n{0}\\n\".format(bool_mat))\n",
    "print(\"  Any val <0.02 or >0.98? {0}\\n\".format(bool_mat.any()))\n",
    "print(\"  Corresponding values:\\n{0}\\n\".format(A[bool_mat]))\n",
    "\n",
    "\n",
    "print(\"  5.3:\")\n",
    "def calc_sn(n):\n",
    "    \"\"\"\n",
    "    Function which returns an array of \n",
    "    partial sums \n",
    "    \"\"\"\n",
    "    k = np.arange(1,n+1)\n",
    "    nom = np.sin(k)\n",
    "    denom = k**2\n",
    "    return np.cumsum(nom/denom)\n",
    "\n",
    "N = 100\n",
    "k = np.arange(1,N+1)\n",
    "Sk = calc_sn(N)\n",
    "plt.xlabel(\"$n$\")\n",
    "plt.ylabel(\"$S_n$\")\n",
    "plt.title(\"Convergence of the Partial Sum $S_n$\")\n",
    "plt.plot(k,Sk);\n"
   ]
  },
  {
   "cell_type": "code",
   "execution_count": null,
   "metadata": {},
   "outputs": [],
   "source": []
  }
 ],
 "metadata": {
  "kernelspec": {
   "display_name": "Python 3",
   "language": "python",
   "name": "python3"
  },
  "language_info": {
   "codemirror_mode": {
    "name": "ipython",
    "version": 3
   },
   "file_extension": ".py",
   "mimetype": "text/x-python",
   "name": "python",
   "nbconvert_exporter": "python",
   "pygments_lexer": "ipython3",
   "version": "3.6.5"
  }
 },
 "nbformat": 4,
 "nbformat_minor": 2
}
