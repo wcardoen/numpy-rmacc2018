{
 "cells": [
  {
   "cell_type": "markdown",
   "metadata": {},
   "source": [
    "# Lecture 2"
   ]
  },
  {
   "cell_type": "code",
   "execution_count": null,
   "metadata": {},
   "outputs": [],
   "source": [
    "%run set_env.py\n",
    "%matplotlib inline"
   ]
  },
  {
   "cell_type": "markdown",
   "metadata": {},
   "source": [
    "### Array attributes"
   ]
  },
  {
   "cell_type": "markdown",
   "metadata": {},
   "source": [
    "<font color=\"green\"><b>ndarray</b></font> is the NumPy base/super class.<br>\n",
    "The ndarray class has several fields/methods.<br>\n",
    "Among them:\n",
    "* dtype: type of the (homogeneous) elements\n",
    "* ndim : dimensionality (#axes) of the array\n",
    "* shape: dimensions of the array (<font color=\"green\"><b>tuple of ints</b></font>)\n",
    "* size : #elements in the array\n",
    "* itemsize: memory occupied by 1 element\n",
    "* nbytes  : total #bytes consumed by the el. of the array\n",
    "* strides : strides of data in memory\n",
    "* flags   : <b>dictionary</b> containing info on memory use.\n",
    "* T       : transpose of the ndarray"
   ]
  },
  {
   "cell_type": "code",
   "execution_count": null,
   "metadata": {},
   "outputs": [],
   "source": [
    "# arange(20) -> Linux x86_64: 'int64'\n",
    "a=np.arange(20).reshape(4,5)\n",
    "print(\"a := np.arange(20).reshape((4,5)) :\\n{0}\\n\".format(a))\n",
    "print(\"  type(a) :'{0}'\".format(type(a)))\n",
    "print(\"  a.dtype:'{0}'\".format(a.dtype))\n",
    "print(\"  a.ndim:'{0}'\".format(a.ndim))\n",
    "print(\"  a.shape:'{0}'\".format(a.shape))\n",
    "print(\"  a.size:'{0}'\".format(a.size))\n",
    "print(\"  a.itemsize:'{0}'\".format(a.itemsize))\n",
    "print(\"  a.nbytes:'{0}'\".format(a.nbytes))\n",
    "print(\"  a.strides:'{0}'\".format(a.strides))\n",
    "print(\"  a.real   :\\n{0}\\n\".format(a.real))\n",
    "print(\"  a.imag   :\\n{0}\\n\".format(a.imag))\n",
    "print(\"  a.flags:\\n{0}\".format(a.flags))\n",
    "print(\"  a.T:\\n{0}\".format(a.T))"
   ]
  },
  {
   "cell_type": "markdown",
   "metadata": {},
   "source": [
    "<b>Notice</b> the fundamental difference!"
   ]
  },
  {
   "cell_type": "code",
   "execution_count": null,
   "metadata": {},
   "outputs": [],
   "source": [
    "a = np.arange(20).reshape(4,5)\n",
    "b = np.arange(20.).reshape(4,5)\n",
    "\n",
    "print(\"a := np.arange(20).reshape((4,5)) :\\n{0}\\n\".format(a))\n",
    "print(\"b := np.arange(20.).reshape((4,5)) :\\n{0}\\n\".format(b))\n",
    "print(\"  type(a) :'{0}'\".format(type(a)))\n",
    "print(\"  type(b) :'{0}'\".format(type(b)))"
   ]
  },
  {
   "cell_type": "code",
   "execution_count": null,
   "metadata": {},
   "outputs": [],
   "source": [
    "print(\"  a.ndim:'{0}'\".format(a.ndim))\n",
    "print(\"  b.ndim:'{0}'\".format(b.ndim))\n",
    "print(\"  a.shape:'{0}'\".format(a.shape))\n",
    "print(\"  b.shape:'{0}'\".format(b.shape))\n",
    "print(\"  a.size:'{0}'\".format(a.size))\n",
    "print(\"  b.size:'{0}'\".format(b.size))\n",
    "print(\"  a.dtype:'{0}'\".format(a.dtype))\n",
    "print(\"  b.dtype:'{0}'\".format(b.dtype))\n",
    "print(\"  a.itemsize:'{0}'\".format(a.itemsize))\n",
    "print(\"  b.itemsize:'{0}'\".format(b.itemsize))\n",
    "print(\"  a.nbytes:'{0}'\".format(a.nbytes))\n",
    "print(\"  b.nbytes:'{0}'\".format(b.nbytes))"
   ]
  },
  {
   "cell_type": "markdown",
   "metadata": {},
   "source": [
    "### Create specific arrays (types & content)"
   ]
  },
  {
   "cell_type": "markdown",
   "metadata": {},
   "source": [
    "#### a.Data Types"
   ]
  },
  {
   "cell_type": "markdown",
   "metadata": {},
   "source": [
    "Numpy support several <font><b>native data types</b></font> e.g.:\n",
    "* int8, int16 int32, int64\n",
    "* uint8, uint16, uint32, uint64\n",
    "* float16, float32, float64\n",
    "* complex64, complex128 \n",
    "* ..."
   ]
  },
  {
   "cell_type": "code",
   "execution_count": null,
   "metadata": {},
   "outputs": [],
   "source": [
    "# Create arrays with of a certain type\n",
    "i1=np.arange(10,dtype='int32')\n",
    "print(\"i1 := np.arange(10,dtype='int32'):\\n{0}\".format(i1))\n",
    "print(\"  i1.dtype:'{0}'\".format(i1.dtype))\n",
    "print(\"  i1.size :'{0}'\".format(i1.size))\n",
    "print(\"  i1.itemsize:'{0}'\".format(i1.itemsize))\n",
    "print(\"  i1.nbytes:'{0}'\".format(i1.nbytes))\n",
    "\n",
    "z1=np.arange(10,dtype='complex128')\n",
    "print(\"\\nz1 := np.arange(10,dtype='complex128'):\\n{0}\\n\".format(z1))\n",
    "print(\"  z1.dtype:'{0}'\".format(z1.dtype))\n",
    "print(\"  z1.size :'{0}'\".format(z1.size))\n",
    "print(\"  z1.itemsize:'{0}'\".format(z1.itemsize))\n",
    "print(\"  z1.nbytes:'{0}'\".format(z1.nbytes))"
   ]
  },
  {
   "cell_type": "code",
   "execution_count": null,
   "metadata": {},
   "outputs": [],
   "source": [
    "# Native scalar data types in numpy:\n",
    "for key in np.sctypes:\n",
    "    print(\" key:{0:<8s}  value:{1}\".format(key,np.sctypes[key]))"
   ]
  },
  {
   "cell_type": "markdown",
   "metadata": {},
   "source": [
    "See also:<br>\n",
    "https://docs.scipy.org/doc/numpy/user/basics.types.html"
   ]
  },
  {
   "cell_type": "markdown",
   "metadata": {},
   "source": [
    "The class <font color=\"green\"><b>np.dtype</b></font> allows one to construct compound data types (cfr. C structs).<br>\n",
    "<font color=\"red\"><b>To be continued ...</b></font>\n"
   ]
  },
  {
   "cell_type": "markdown",
   "metadata": {},
   "source": [
    "To perform cast between different scalar types:\n",
    "* numpy.astype(dtype) : convert array to type dtype"
   ]
  },
  {
   "cell_type": "code",
   "execution_count": null,
   "metadata": {},
   "outputs": [],
   "source": [
    "# Change type of an array (cast function)\n",
    "f1 = np.array([1.0,2.5,3.0,7.2])\n",
    "print(\"\\nf1 := np.array([1.0,2.5,3.0,7.2]):\\n{0}\".format(f1))\n",
    "i3 = f1.astype('int64')\n",
    "print(\"i3 := f1.astype(dtype='int64'):\\n{0}\\n\".format(i3))\n",
    "print(\"  i3.dtype:'{0}'\".format(i3.dtype))\n",
    "print(\"  i3.size :'{0}'\".format(i3.size))\n",
    "print(\"  i3.itemsize:'{0}'\".format(i3.itemsize))\n",
    "print(\"  i3.nbytes:'{0}'\".format(i3.nbytes))"
   ]
  },
  {
   "cell_type": "markdown",
   "metadata": {},
   "source": [
    "#### b. Particular forms of ndarray"
   ]
  },
  {
   "cell_type": "markdown",
   "metadata": {},
   "source": [
    "Numpy has specific <font><b>initialization</b></font> functions<br> \n",
    "A few of the most important ones:\n",
    "* diag(v,k=0)                            \n",
    "  + either extracts the diagonal (if a matrix exists)\n",
    "  + or constructs a diagonal array. \n",
    "* empty(shape,dtype='float64',order='C') \n",
    "  + returns a new array <b>without</b> initializing its entries (i.e. mem. allocation)\n",
    "* eye(N,M=None,k=0,dtype='float64')      \n",
    "  + returns a 2-D array with ones on the diagaonal and zeros elsewhere\n",
    "* fromfunction(myfunc,shape,dtype)                          \n",
    "  + returns a new array based on a function\n",
    "* identity(n,dtype='float64')            \n",
    "  + returns the $n$ x $n$ identity array\n",
    "* ones(shape,dtype='float64',order='C')  \n",
    "  + returns a new array completely filled with 1s \n",
    "* zeros(shape,dtype='float64',order='C') \n",
    "  + returns a new array completely filled with 0s"
   ]
  },
  {
   "cell_type": "code",
   "execution_count": null,
   "metadata": {},
   "outputs": [],
   "source": [
    "# Diag function\n",
    "a1 = np.array([i for i in range(20)]).reshape(4,5)\n",
    "print(\"  a1:\\n{0}\".format(a1))\n",
    "\n",
    "# Extract the diagonal\n",
    "print(\"  \\n np.diag(a1):\\n{0}\".format(np.diag(a1)))\n",
    "\n",
    "# Extract a SHIFTED diagonal\n",
    "print(\"  \\n np.diag(a1,k=1):\\n{0}\".format(np.diag(a1,k=1)))\n",
    "\n",
    "# Create a diagonal matrix\n",
    "print(\"  \\n np.diag(range(4)):\\n{0}\".format(np.diag(range(4))))\n",
    "\n",
    "# Create a SHIFTED diagonal matrix\n",
    "print(\"  \\n np.diag(range(4),k=1):\\n{0}\".format(np.diag(range(4),k=1)))"
   ]
  },
  {
   "cell_type": "code",
   "execution_count": null,
   "metadata": {},
   "outputs": [],
   "source": [
    "# Memory allocation\n",
    "a2=np.empty((2,3))\n",
    "print(\"a2 np.empty((2,3)) :\\n{0}\\n\".format(a2))\n",
    "\n",
    "# Create ones on the diagonal\n",
    "a3=np.eye(5,4,k=1)\n",
    "print(\"a3 np.eye(5,4,k=1,dtype='float64') :\\n{0}\\n\".format(a3))\n",
    "\n",
    "# Use a function (index based) to generate entries\n",
    "a4=np.fromfunction(lambda x,y: x+2*y,(2,5),dtype='float64')\n",
    "print(\"a4 np.fromfunction(lambda x,y: x+2*y,(2,5),dtype='float64') :\\n{0}\\n\".format(a4))\n",
    "\n",
    "# Return a SQUARE identity matrix\n",
    "a5=np.identity(5,dtype='int64')\n",
    "print(\"a5 np.identity(5,dtype='int64') :\\n{0}\\n\".format(a5))\n",
    "\n",
    "a6=np.ones((2,7),dtype='int64')\n",
    "print(\"a6 np.ones((2,7),dtype='int64') :\\n{0}\\n\".format(a6))\n",
    "\n",
    "a7=np.zeros((3,4),dtype='complex128')\n",
    "print(\"a7 np.zeros((3,4),dtype='complex128') :\\n{0}\\n\".format(a7))"
   ]
  },
  {
   "cell_type": "markdown",
   "metadata": {},
   "source": [
    "#### c. Some other useful (random) initializations"
   ]
  },
  {
   "cell_type": "markdown",
   "metadata": {},
   "source": [
    "You can also fill up your ndarray with random numbers<br>\n",
    "The Numpy random generator is based on the Mersenne Twister.<br>\n",
    "https://en.wikipedia.org/wiki/Mersenne_Twister\n",
    "* numpy.random.random([size]):<br>\n",
    "  Returns random floats in the half-open interval [0.0, 1.0).\n",
    "* numpy.random.randint(low, [high=None], [size],[dtype]):<br>\n",
    "  Returns random integers from low (inclusive) to high (exclusive).\n",
    "* ...   "
   ]
  },
  {
   "cell_type": "code",
   "execution_count": null,
   "metadata": {},
   "outputs": [],
   "source": [
    "import numpy.random as rnd\n",
    "a = rnd.random((4,5))\n",
    "print(\" a:\\n{0}\\n\".format(a))\n",
    "      \n",
    "b = rnd.randint(5,15,(4,6))   \n",
    "print(\" b:\\n{0}\\n\".format(b))"
   ]
  },
  {
   "cell_type": "markdown",
   "metadata": {},
   "source": [
    "### Exercise:"
   ]
  },
  {
   "cell_type": "markdown",
   "metadata": {},
   "source": [
    "* Create a 5x5 matrix with the following (staggered) entries:<br>\n",
    "  array([[0, 1, 2, 3, 4],\n",
    "         [1, 2, 3, 4, 5],\n",
    "         [2, 3, 4, 5, 6],\n",
    "         [3, 4, 5, 6, 7],\n",
    "         [4, 5, 6, 7, 8]])\n",
    "  (<b>Hint</b>: use the np.fromfunction ) \n",
    "* Create a 6x6 'tridiagonal' matrix (see https://en.wikipedia.org/wiki/Tridiagonal_matrix)<br>\n",
    "  where:\n",
    "  * the 'tridiagonal' elements are True and \n",
    "  * the 'non-triadiagonal' elements are False<br>\n",
    "  Boolean matrices are <font color=\"green\"><b>key components</b></font> for fancy indexing (see later)<br>\n",
    "  (<b>Hint</b>: 0:False & non-zero:True)"
   ]
  },
  {
   "cell_type": "markdown",
   "metadata": {},
   "source": [
    "### Solutions:"
   ]
  },
  {
   "cell_type": "code",
   "execution_count": null,
   "metadata": {},
   "outputs": [],
   "source": [
    "# %load ../solutions/ex2.py"
   ]
  },
  {
   "cell_type": "markdown",
   "metadata": {},
   "source": [
    "### Addendum:"
   ]
  },
  {
   "cell_type": "markdown",
   "metadata": {},
   "source": [
    "#### 1. np.empty_like(), np.zeros_like(), np.ones_like() functions:"
   ]
  },
  {
   "cell_type": "markdown",
   "metadata": {},
   "source": [
    "Numpy allows one to create empty, zeros, ones ndarrays <br>\n",
    "with the <b><font color=\"green\">SAME</font></b> shape as an existing ndarrays.<br>\n",
    "(Syntax: y = np.zeros_like(x), etc.)\n",
    "  * np.empty_like()\n",
    "  * np.zeros_like()\n",
    "  * np.ones_like()"
   ]
  },
  {
   "cell_type": "code",
   "execution_count": null,
   "metadata": {},
   "outputs": [],
   "source": [
    "a = np.random.random((4,6))\n",
    "print(a)\n",
    "print\n",
    "b = np.zeros_like(a,dtype='int32')\n",
    "print(b)"
   ]
  },
  {
   "cell_type": "markdown",
   "metadata": {},
   "source": [
    "#### 2. Caveat:"
   ]
  },
  {
   "cell_type": "code",
   "execution_count": null,
   "metadata": {},
   "outputs": [],
   "source": [
    "# To create a proper vector a Python array-type object is required\n",
    "a = np.array(5)\n",
    "print(\" a:{0}\".format(a))\n",
    "print(\" ndim:{0}\".format(a.ndim))\n",
    "print(\" shape:{0}\".format(a.shape))\n",
    "print(\" type:{0}\".format(type(a)))\n",
    "\n",
    "# should either be\n",
    "b = np.array([5])\n",
    "print(\"\\n b:{0}\".format(b))\n",
    "print(\" ndim:{0}\".format(b.ndim))\n",
    "print(\" shape:{0}\".format(b.shape))\n",
    "print(\" type:{0}\".format(type(b)))\n",
    "\n",
    "# OR\n",
    "c = np.atleast_1d(5)\n",
    "print(\"\\n c:{0}\".format(c))\n",
    "print(\" ndim:{0}\".format(c.ndim))\n",
    "print(\" shape:{0}\".format(c.shape))\n",
    "print(\" type:{0}\".format(type(c)))"
   ]
  }
 ],
 "metadata": {
  "kernelspec": {
   "display_name": "Python 3",
   "language": "python",
   "name": "python3"
  },
  "language_info": {
   "codemirror_mode": {
    "name": "ipython",
    "version": 3
   },
   "file_extension": ".py",
   "mimetype": "text/x-python",
   "name": "python",
   "nbconvert_exporter": "python",
   "pygments_lexer": "ipython3",
   "version": "3.6.4"
  }
 },
 "nbformat": 4,
 "nbformat_minor": 2
}
