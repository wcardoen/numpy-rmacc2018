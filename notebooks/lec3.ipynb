{
 "cells": [
  {
   "cell_type": "markdown",
   "metadata": {},
   "source": [
    "# Lecture 3"
   ]
  },
  {
   "cell_type": "code",
   "execution_count": null,
   "metadata": {},
   "outputs": [],
   "source": [
    "%run set_env.py\n",
    "%matplotlib inline"
   ]
  },
  {
   "cell_type": "markdown",
   "metadata": {},
   "source": [
    "## Indexing and Slicing"
   ]
  },
  {
   "cell_type": "markdown",
   "metadata": {},
   "source": [
    "### 1D Array"
   ]
  },
  {
   "cell_type": "markdown",
   "metadata": {},
   "source": [
    "Exactly as in regular python (<font color=\"green\"><b>Nihil novi sub sole!</b></font>):\n",
    "* Index: zero-based (like C)\n",
    "* [start:end:step) i.e. half-open interval\n",
    "   * start: (Default:0)\n",
    "   * end: (Default: At the way to the end (inclusive))\n",
    "   * step: (Default: +1)\n",
    "* We can use negative indices:\n",
    "   * -1: last el., etc.\n",
    "* a[i]   : **indexing** vs. <br>\n",
    "  a[j:m] : **slicing**"
   ]
  },
  {
   "cell_type": "code",
   "execution_count": 2,
   "metadata": {},
   "outputs": [
    {
     "name": "stdout",
     "output_type": "stream",
     "text": [
      "a := np.arange(21) :\n",
      "  a         :  [ 0  1  2  3  4  5  6  7  8  9 10 11 12 13 14 15 16 17 18 19 20]\n",
      "  a[4]      :  4\n",
      "  a[:]      :  [ 0  1  2  3  4  5  6  7  8  9 10 11 12 13 14 15 16 17 18 19 20]\n",
      "  a[5:]     :  [ 5  6  7  8  9 10 11 12 13 14 15 16 17 18 19 20]\n",
      "  a[2:12:3] :  [ 2  5  8 11]\n",
      "  a[2::5]   :  [ 2  7 12 17]\n",
      "  a[-5:-1]  :  [16 17 18 19]\n",
      "  a[-3:3:-1]:  [18 17 16 15 14 13 12 11 10  9  8  7  6  5  4]\n",
      "  a[-7::2]  :  [14 16 18 20]\n",
      "  a[0]      :  0\n",
      "  a[0:1]    :  [0]\n"
     ]
    }
   ],
   "source": [
    "# 1D Example\n",
    "a=np.arange(21)\n",
    "print(\"a := np.arange(21) :\\n  a         :  {0}\".format(a))\n",
    "print(\"  a[4]      :  {0}\".format(a[4]))\n",
    "print(\"  a[:]      :  {0}\".format(a[:]))\n",
    "print(\"  a[5:]     :  {0}\".format(a[5:]))\n",
    "print(\"  a[2:12:3] :  {0}\".format(a[2:12:3]))\n",
    "print(\"  a[2::5]   :  {0}\".format(a[2::5]))\n",
    "print(\"  a[-5:-1]  :  {0}\".format(a[-5:-1]))\n",
    "print(\"  a[-3:3:-1]:  {0}\".format(a[-3:3:-1]))\n",
    "print(\"  a[-7::2]  :  {0}\".format(a[-7::2]))\n",
    "print(\"  a[0]      :  {0}\".format(a[0]))   # indexing -> EL.   => LOWER rank\n",
    "print(\"  a[0:1]    :  {0}\".format(a[0:1])) # slicing  -> ARRAY => preserve rank"
   ]
  },
  {
   "cell_type": "markdown",
   "metadata": {},
   "source": [
    "### N-Dimensional Array"
   ]
  },
  {
   "cell_type": "markdown",
   "metadata": {},
   "source": [
    "* Indexing & slicing are quite similar as for regular Python\n",
    "* <font color=\"red\"><b>MAIN DIFFERENCE</b></font>: \n",
    "  * [i][j] (Python) \n",
    "  * becomes [i,j] (NumPy)\n",
    " "
   ]
  },
  {
   "cell_type": "code",
   "execution_count": 4,
   "metadata": {},
   "outputs": [
    {
     "name": "stdout",
     "output_type": "stream",
     "text": [
      "  NUMPY::\n",
      "  x:\n",
      "[[   1    3    9   27]\n",
      " [  81  243  729 2187]]\n",
      "\n",
      "  x[0,0] :1\n",
      "  x[1,2] :729\n",
      "  x[1,:] :[  81  243  729 2187]\n",
      "  x[1]   :[  81  243  729 2187]\n",
      "  x[:,-1]:[  27 2187]\n",
      "  REGULAR PYTHON::\n",
      "  x:\n",
      "[[1, 3, 9, 27], [81, 243, 729, 2187]]\n",
      "\n",
      "  x[0][0] :1\n",
      "  x[1][2] :729\n",
      "  x[1][:] :[81, 243, 729, 2187]\n",
      "  x[1]    :[81, 243, 729, 2187]\n",
      "  x[:][-1]:[81, 243, 729, 2187]\n"
     ]
    }
   ],
   "source": [
    "# Example\n",
    "print(\"  NUMPY::\")\n",
    "x = np.array([3**i for i in range(8)]).reshape(2,4)\n",
    "print(\"  x:\\n{0}\\n\".format(x))\n",
    "print(\"  x[0,0] :{0}\".format(x[0,0]))\n",
    "print(\"  x[1,2] :{0}\".format(x[1,2]))\n",
    "print(\"  x[1,:] :{0}\".format(x[1,:])) \n",
    "print(\"  x[1]   :{0}\".format(x[1]))\n",
    "print(\"  x[:,-1]:{0}\".format(x[:,-1]))\n",
    "\n",
    "print(\"  REGULAR PYTHON::\")\n",
    "x = x.tolist()\n",
    "print(\"  x:\\n{0}\\n\".format(x))\n",
    "print(\"  x[0][0] :{0}\".format( x[0][0]))\n",
    "print(\"  x[1][2] :{0}\".format( x[1][2]))\n",
    "print(\"  x[1][:] :{0}\".format( x[1][:])) \n",
    "print(\"  x[1]    :{0}\".format( x[1]))\n",
    "print(\"  x[:][-1]:{0}\".format( x[:][-1])) # SEEMINGLY RESULT!!!! Do you know why?"
   ]
  },
  {
   "cell_type": "code",
   "execution_count": 5,
   "metadata": {},
   "outputs": [
    {
     "name": "stdout",
     "output_type": "stream",
     "text": [
      "[[1, 3, 9, 27], [81, 243, 729, 2187]]\n",
      "2\n",
      "[81, 243, 729, 2187]\n",
      "[27, 2187]\n"
     ]
    }
   ],
   "source": [
    "# Explanation:\n",
    "print(x[:])\n",
    "print(len(x))\n",
    "y = x[:]\n",
    "print(y[-1])\n",
    "\n",
    "# THEREFORE:\n",
    "res =[ item[-1] for item in x]\n",
    "print(res)"
   ]
  },
  {
   "cell_type": "markdown",
   "metadata": {},
   "source": [
    "<font color=\"green\"><b>NOTE: Numpy slicing has some additional features:</b></font><br>\n",
    " * if #indices < #dim: Assumes ALL of the remaining dimensions\n",
    " * ellipsis: ... : Consider complete dimensions up to the index\n",
    " * axis          : Synonymous for dimension (C style)\n",
    " * index  : lowering of dimensionality -> <b>always COPY</b>\n",
    " * slicing: preserves dimensionality   -> <b>always VIEW</b>"
   ]
  },
  {
   "cell_type": "code",
   "execution_count": 6,
   "metadata": {},
   "outputs": [
    {
     "name": "stdout",
     "output_type": "stream",
     "text": [
      "  a.shape:(3, 4, 5, 6, 7, 6)\n",
      "  b.shape:(2, 1, 5, 6, 7, 6)\n",
      "  c.shape:(2, 5, 6, 7, 6)\n"
     ]
    }
   ],
   "source": [
    "a = rnd.random((3,4,5,6,7,6))\n",
    "print(\"  a.shape:{0}\".format(a.shape))\n",
    "b = a[0:2,0:1]  # Slice in 2nd dim. ->  preserve dimensionality\n",
    "print(\"  b.shape:{0}\".format(b.shape)) \n",
    "c = a[0:2,0]    # Index for 2nd dim. -> lowering dimensionality\n",
    "print(\"  c.shape:{0}\".format(c.shape))"
   ]
  },
  {
   "cell_type": "markdown",
   "metadata": {},
   "source": [
    "### Slicing, indexing: View vs. Copy"
   ]
  },
  {
   "cell_type": "markdown",
   "metadata": {},
   "source": [
    "#### Slicing:"
   ]
  },
  {
   "cell_type": "code",
   "execution_count": 7,
   "metadata": {},
   "outputs": [
    {
     "name": "stdout",
     "output_type": "stream",
     "text": [
      " a:\n",
      "[[0.39591381 0.513236   0.9938179  0.72633742 0.52690039]\n",
      " [0.429774   0.84327232 0.09115303 0.30313384 0.12261578]\n",
      " [0.28544101 0.37122688 0.39742519 0.09765492 0.28185753]\n",
      " [0.30068426 0.93357699 0.29441323 0.52565882 0.14688363]\n",
      " [0.71653442 0.90905091 0.93532143 0.00305879 0.15036945]]\n",
      "\n",
      " b:\n",
      "[[0.52565882 0.14688363]\n",
      " [0.00305879 0.15036945]]\n",
      "\n",
      " b.flags:\n",
      "  C_CONTIGUOUS : False\n",
      "  F_CONTIGUOUS : False\n",
      "  OWNDATA : False\n",
      "  WRITEABLE : True\n",
      "  ALIGNED : True\n",
      "  WRITEBACKIFCOPY : False\n",
      "  UPDATEIFCOPY : False\n",
      "\n",
      " b:\n",
      "[[0. 0.]\n",
      " [0. 0.]]\n",
      "\n",
      " a:\n",
      "[[0.39591381 0.513236   0.9938179  0.72633742 0.52690039]\n",
      " [0.429774   0.84327232 0.09115303 0.30313384 0.12261578]\n",
      " [0.28544101 0.37122688 0.39742519 0.09765492 0.28185753]\n",
      " [0.30068426 0.93357699 0.29441323 0.         0.        ]\n",
      " [0.71653442 0.90905091 0.93532143 0.         0.        ]]\n",
      "\n"
     ]
    }
   ],
   "source": [
    "a = np.random.random((5,5))\n",
    "print(\" a:\\n{0}\\n\".format(a))\n",
    "\n",
    "# B is a slice of A => VIEW\n",
    "b = a[3:5,3:5]\n",
    "print(\" b:\\n{0}\\n\".format(b))\n",
    "print(\" b.flags:\\n{0}\\n\".format(b.flags))\n",
    "\n",
    "#Modifying B:\n",
    "b[:,:]=0.0\n",
    "print(\" b:\\n{0}\\n\".format(b))\n",
    "print(\" a:\\n{0}\\n\".format(a))"
   ]
  },
  {
   "cell_type": "markdown",
   "metadata": {},
   "source": [
    "#### Working on copy of a slice:"
   ]
  },
  {
   "cell_type": "code",
   "execution_count": 8,
   "metadata": {},
   "outputs": [
    {
     "name": "stdout",
     "output_type": "stream",
     "text": [
      " a:\n",
      "[[0.15477519 0.65782784 0.97012067 0.34678043 0.12063659]\n",
      " [0.26465828 0.29998363 0.23628527 0.07260346 0.37474176]\n",
      " [0.92738478 0.64831145 0.3805133  0.87082816 0.11264068]\n",
      " [0.63962392 0.61811559 0.24409075 0.51745009 0.80188382]\n",
      " [0.18422982 0.13987239 0.99910941 0.84564093 0.04852385]]\n",
      "\n",
      " c:\n",
      "[[0.51745009 0.80188382]\n",
      " [0.84564093 0.04852385]]\n",
      "\n",
      " c.flags:\n",
      "  C_CONTIGUOUS : True\n",
      "  F_CONTIGUOUS : False\n",
      "  OWNDATA : True\n",
      "  WRITEABLE : True\n",
      "  ALIGNED : True\n",
      "  WRITEBACKIFCOPY : False\n",
      "  UPDATEIFCOPY : False\n",
      "\n",
      " c:\n",
      "[[-1. -1.]\n",
      " [-1. -1.]]\n",
      "\n",
      " a:\n",
      "[[0.15477519 0.65782784 0.97012067 0.34678043 0.12063659]\n",
      " [0.26465828 0.29998363 0.23628527 0.07260346 0.37474176]\n",
      " [0.92738478 0.64831145 0.3805133  0.87082816 0.11264068]\n",
      " [0.63962392 0.61811559 0.24409075 0.51745009 0.80188382]\n",
      " [0.18422982 0.13987239 0.99910941 0.84564093 0.04852385]]\n",
      "\n"
     ]
    }
   ],
   "source": [
    "a = np.random.random((5,5))\n",
    "print(\" a:\\n{0}\\n\".format(a))\n",
    "\n",
    "# C is NOT a view BUT a copy\n",
    "c = a[3:5,3:5].copy()\n",
    "print(\" c:\\n{0}\\n\".format(c))\n",
    "print(\" c.flags:\\n{0}\\n\".format(c.flags))\n",
    "\n",
    "# Modifying C:\n",
    "c[:,:] = -1.0\n",
    "print(\" c:\\n{0}\\n\".format(c))\n",
    "print(\" a:\\n{0}\\n\".format(a))"
   ]
  },
  {
   "cell_type": "markdown",
   "metadata": {},
   "source": [
    "#### Example of indexing:"
   ]
  },
  {
   "cell_type": "code",
   "execution_count": 9,
   "metadata": {},
   "outputs": [
    {
     "name": "stdout",
     "output_type": "stream",
     "text": [
      " a:\n",
      "[[0.67189866 0.4838248  0.35821453 0.64111352 0.96361296]\n",
      " [0.24624023 0.42036834 0.56360327 0.11489622 0.32957273]\n",
      " [0.25722706 0.3879298  0.2921899  0.91674888 0.05444135]\n",
      " [0.3624137  0.01121409 0.15467208 0.43020431 0.08472534]\n",
      " [0.71364206 0.28064694 0.98132119 0.04010564 0.68999222]]\n",
      "\n",
      " d:\n",
      "0.5636032746198663\n",
      "\n",
      " d.flags:\n",
      "  C_CONTIGUOUS : True\n",
      "  F_CONTIGUOUS : True\n",
      "  OWNDATA : True\n",
      "  WRITEABLE : False\n",
      "  ALIGNED : True\n",
      "  WRITEBACKIFCOPY : False\n",
      "  UPDATEIFCOPY : False\n",
      "\n"
     ]
    }
   ],
   "source": [
    "# D is obtained by pure indexing\n",
    "a = np.random.random((5,5))\n",
    "print(\" a:\\n{0}\\n\".format(a))\n",
    "\n",
    "d = a[1,2]\n",
    "print(\" d:\\n{0}\\n\".format(d))\n",
    "print(\" d.flags:\\n{0}\\n\".format(d.flags))"
   ]
  },
  {
   "cell_type": "markdown",
   "metadata": {},
   "source": [
    "### What about reshaping?"
   ]
  },
  {
   "cell_type": "markdown",
   "metadata": {},
   "source": [
    "<i>From the Numpy manual</i>:<br>\n",
    "It is <b>not always</b> possible to change the shape of an array without copying the data.\n"
   ]
  },
  {
   "cell_type": "markdown",
   "metadata": {},
   "source": [
    "#### a. Example of reshaping without copying"
   ]
  },
  {
   "cell_type": "code",
   "execution_count": 10,
   "metadata": {},
   "outputs": [
    {
     "name": "stdout",
     "output_type": "stream",
     "text": [
      " x (Orig.):\n",
      "[[0.92530489 0.60170236 0.05389814 0.78950722 0.93554486 0.57786091]\n",
      " [0.42321563 0.74568551 0.21462479 0.78615502 0.58660864 0.07281364]\n",
      " [0.35548558 0.14799788 0.92110803 0.36127111 0.69503078 0.58996973]\n",
      " [0.44625928 0.64267334 0.88455378 0.34974601 0.93483496 0.90728547]]\n",
      "\n",
      " x.flags:\n",
      "  C_CONTIGUOUS : True\n",
      "  F_CONTIGUOUS : False\n",
      "  OWNDATA : True\n",
      "  WRITEABLE : True\n",
      "  ALIGNED : True\n",
      "  WRITEBACKIFCOPY : False\n",
      "  UPDATEIFCOPY : False\n",
      "\n",
      " x (After Reshaping):\n",
      "[[0.92530489 0.60170236 0.05389814 0.78950722]\n",
      " [0.93554486 0.57786091 0.42321563 0.74568551]\n",
      " [0.21462479 0.78615502 0.58660864 0.07281364]\n",
      " [0.35548558 0.14799788 0.92110803 0.36127111]\n",
      " [0.69503078 0.58996973 0.44625928 0.64267334]\n",
      " [0.88455378 0.34974601 0.93483496 0.90728547]]\n",
      "\n",
      " x.flags:\n",
      "  C_CONTIGUOUS : True\n",
      "  F_CONTIGUOUS : False\n",
      "  OWNDATA : False\n",
      "  WRITEABLE : True\n",
      "  ALIGNED : True\n",
      "  WRITEBACKIFCOPY : False\n",
      "  UPDATEIFCOPY : False\n"
     ]
    }
   ],
   "source": [
    "# Default Memory layout is C\n",
    "x = np.random.random((4,6))\n",
    "print(\" x (Orig.):\\n{0}\\n\".format(x))\n",
    "print(\" x.flags:\\n{0}\\n\".format(x.flags))\n",
    "y=x.reshape((6,4))\n",
    "print(\" x (After Reshaping):\\n{0}\\n\".format(y))\n",
    "print(\" x.flags:\\n{0}\".format(y.flags))"
   ]
  },
  {
   "cell_type": "markdown",
   "metadata": {},
   "source": [
    "#### b.More problematic case:"
   ]
  },
  {
   "cell_type": "markdown",
   "metadata": {},
   "source": [
    "Note:<br>\n",
    "We can create a view on an ndarray using the view method (vide infra)"
   ]
  },
  {
   "cell_type": "code",
   "execution_count": 11,
   "metadata": {},
   "outputs": [
    {
     "name": "stdout",
     "output_type": "stream",
     "text": [
      " a:\n",
      "[[0.22858811 0.94564653 0.97388621 0.89737718 0.97462404 0.44738436]\n",
      " [0.61440493 0.20915704 0.69396141 0.36910604 0.24835389 0.60234972]\n",
      " [0.26937937 0.50371753 0.02221169 0.99737635 0.4570036  0.63155097]\n",
      " [0.94247171 0.34062817 0.45493357 0.47036882 0.92191808 0.42565357]]\n",
      "\n",
      " a.flags:\n",
      "  C_CONTIGUOUS : True\n",
      "  F_CONTIGUOUS : False\n",
      "  OWNDATA : True\n",
      "  WRITEABLE : True\n",
      "  ALIGNED : True\n",
      "  WRITEBACKIFCOPY : False\n",
      "  UPDATEIFCOPY : False\n"
     ]
    }
   ],
   "source": [
    "# Create a rdn matrix A\n",
    "a = np.random.random((4,6))\n",
    "print(\" a:\\n{0}\\n\".format(a))\n",
    "print(\" a.flags:\\n{0}\".format(a.flags))"
   ]
  },
  {
   "cell_type": "code",
   "execution_count": 12,
   "metadata": {},
   "outputs": [
    {
     "name": "stdout",
     "output_type": "stream",
     "text": [
      " b:\n",
      "[[0.22858811 0.61440493 0.26937937 0.94247171]\n",
      " [0.94564653 0.20915704 0.50371753 0.34062817]\n",
      " [0.97388621 0.69396141 0.02221169 0.45493357]\n",
      " [0.89737718 0.36910604 0.99737635 0.47036882]\n",
      " [0.97462404 0.24835389 0.4570036  0.92191808]\n",
      " [0.44738436 0.60234972 0.63155097 0.42565357]]\n",
      "\n",
      " b.flags:\n",
      "  C_CONTIGUOUS : False\n",
      "  F_CONTIGUOUS : True\n",
      "  OWNDATA : False\n",
      "  WRITEABLE : True\n",
      "  ALIGNED : True\n",
      "  WRITEBACKIFCOPY : False\n",
      "  UPDATEIFCOPY : False\n"
     ]
    }
   ],
   "source": [
    "b = a.T\n",
    "print(\" b:\\n{0}\\n\".format(b))\n",
    "print(\" b.flags:\\n{0}\".format(b.flags))"
   ]
  },
  {
   "cell_type": "code",
   "execution_count": 13,
   "metadata": {},
   "outputs": [
    {
     "name": "stdout",
     "output_type": "stream",
     "text": [
      " c:\n",
      "[[0.22858811 0.61440493 0.26937937 0.94247171]\n",
      " [0.94564653 0.20915704 0.50371753 0.34062817]\n",
      " [0.97388621 0.69396141 0.02221169 0.45493357]\n",
      " [0.89737718 0.36910604 0.99737635 0.47036882]\n",
      " [0.97462404 0.24835389 0.4570036  0.92191808]\n",
      " [0.44738436 0.60234972 0.63155097 0.42565357]]\n",
      "\n",
      " c.flags:\n",
      "  C_CONTIGUOUS : False\n",
      "  F_CONTIGUOUS : True\n",
      "  OWNDATA : False\n",
      "  WRITEABLE : True\n",
      "  ALIGNED : True\n",
      "  WRITEBACKIFCOPY : False\n",
      "  UPDATEIFCOPY : False\n"
     ]
    }
   ],
   "source": [
    "# We FORCE to be a view on b\n",
    "c = b.view()\n",
    "print(\" c:\\n{0}\\n\".format(c))\n",
    "print(\" c.flags:\\n{0}\".format(c.flags))"
   ]
  },
  {
   "cell_type": "code",
   "execution_count": 14,
   "metadata": {},
   "outputs": [
    {
     "ename": "AttributeError",
     "evalue": "incompatible shape for a non-contiguous array",
     "output_type": "error",
     "traceback": [
      "\u001b[0;31m---------------------------------------------------------------------------\u001b[0m",
      "\u001b[0;31mAttributeError\u001b[0m                            Traceback (most recent call last)",
      "\u001b[0;32m<ipython-input-14-babb24ff4aa9>\u001b[0m in \u001b[0;36m<module>\u001b[0;34m()\u001b[0m\n\u001b[1;32m      1\u001b[0m \u001b[0;31m# Force c to reshape to a.\u001b[0m\u001b[0;34m\u001b[0m\u001b[0;34m\u001b[0m\u001b[0m\n\u001b[1;32m      2\u001b[0m \u001b[0;31m# This requires a copy (can't because it is a VIEW) => Error\u001b[0m\u001b[0;34m\u001b[0m\u001b[0;34m\u001b[0m\u001b[0m\n\u001b[0;32m----> 3\u001b[0;31m \u001b[0mc\u001b[0m\u001b[0;34m.\u001b[0m\u001b[0mshape\u001b[0m\u001b[0;34m=\u001b[0m\u001b[0;34m(\u001b[0m\u001b[0;36m4\u001b[0m\u001b[0;34m,\u001b[0m\u001b[0;36m6\u001b[0m\u001b[0;34m)\u001b[0m\u001b[0;34m\u001b[0m\u001b[0m\n\u001b[0m",
      "\u001b[0;31mAttributeError\u001b[0m: incompatible shape for a non-contiguous array"
     ]
    }
   ],
   "source": [
    "# Force c to reshape to a. \n",
    "# This requires a copy (can't because it is a VIEW) => Error\n",
    "c.shape=(4,6)"
   ]
  },
  {
   "cell_type": "markdown",
   "metadata": {},
   "source": [
    "### Exercises:"
   ]
  },
  {
   "cell_type": "markdown",
   "metadata": {},
   "source": [
    "* <b>Exercise 3.1</b>: \n",
    "  * Generate the following $2D$ matrix A:<br>\n",
    "    $$\\begin{bmatrix}\n",
    "      1 & 2 & 3 & 4 & 5  & 6\\\\\n",
    "      7 & 8 & 9 & 10 & 11 & 12\\\\ \n",
    "      13 & 14 & 15 & 16 & 17 & 18 \\\\\n",
    "      19 & 20 & 21 & 22 & 23 & 24\\\\\n",
    "      25 & 26 & 27 & 28 & 29 & 30\n",
    "      \\end{bmatrix}$$\n",
    "  * Extract the following $2D$ matrix B from A:<br>\n",
    "    $$\\begin{bmatrix}\n",
    "       1 & 3 \\\\\n",
    "       7 & 9 \\\\\n",
    "      13 & 15 \\\\\n",
    "      19 & 21 \\\\\n",
    "      25 & 27\n",
    "      \\end{bmatrix}$$\n",
    "  * Extract the following $1D$ vector C from A:<br>\n",
    "    $$\\begin{bmatrix}\n",
    "      8 & 10 & 12\n",
    "      \\end{bmatrix}$$ \n",
    "  * Could you extract the same object as a $2D$ matrix?  \n",
    "  * Extract the following $2D$ matrix E from A:<br>\n",
    "    $$\\begin{bmatrix}\n",
    "      2 & 5 \\\\\n",
    "      20 & 23\n",
    "      \\end{bmatrix}$$\n",
    "* <b>Exercise 3.2</b>:\n",
    "  * Create a random matrix (7x7) with values $[0,1[$:<br>\n",
    "    Replace the core 3x3 matrix of the above matrix with ones.<br>\n",
    "    (Hint: use the np.random.random function to create the matrix)\n",
    "* <b>Exercise 3.3</b>:\n",
    "  * Create the following (8x8) checkerboard containing 0 and 1's (type integer) in 2 different ways:\n",
    "    $$\\begin{bmatrix}\n",
    "      0 & 1 & 0 & 1 &  0 & 1 & 0 & 1\\\\\n",
    "      1 & 0 & 1 &  0 & 1 & 0 & 1 & 0\\\\\n",
    "      0 & 1 & 0 & 1 &  0 & 1 & 0 & 1\\\\\n",
    "      1 & 0 & 1 &  0 & 1 & 0 & 1 & 0\\\\\n",
    "      0 & 1 & 0 & 1 &  0 & 1 & 0 & 1\\\\\n",
    "      1 & 0 & 1 &  0 & 1 & 0 & 1 & 0\\\\\n",
    "      0 & 1 & 0 & 1 &  0 & 1 & 0 & 1 \\\\\n",
    "      1 & 0 & 1 &  0 & 1 & 0 & 1 & 0\n",
    "      \\end{bmatrix}$$\n",
    "    * ONLY using slicing\n",
    "    * using the numpy np.tile function (use help to find the syntax)"
   ]
  },
  {
   "cell_type": "markdown",
   "metadata": {},
   "source": [
    "### Solution:"
   ]
  },
  {
   "cell_type": "code",
   "execution_count": 17,
   "metadata": {},
   "outputs": [],
   "source": [
    "# %load ../solutions/ex3.py"
   ]
  }
 ],
 "metadata": {
  "kernelspec": {
   "display_name": "Python 3",
   "language": "python",
   "name": "python3"
  },
  "language_info": {
   "codemirror_mode": {
    "name": "ipython",
    "version": 3
   },
   "file_extension": ".py",
   "mimetype": "text/x-python",
   "name": "python",
   "nbconvert_exporter": "python",
   "pygments_lexer": "ipython3",
   "version": "3.6.5"
  }
 },
 "nbformat": 4,
 "nbformat_minor": 2
}
