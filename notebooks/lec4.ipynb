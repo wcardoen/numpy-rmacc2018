{
 "cells": [
  {
   "cell_type": "markdown",
   "metadata": {},
   "source": [
    "# Lecture 4"
   ]
  },
  {
   "cell_type": "code",
   "execution_count": null,
   "metadata": {},
   "outputs": [],
   "source": [
    "%run set_env.py\n",
    "%matplotlib inline"
   ]
  },
  {
   "cell_type": "markdown",
   "metadata": {},
   "source": [
    "### Vector Operations & Broadcasting"
   ]
  },
  {
   "cell_type": "markdown",
   "metadata": {},
   "source": [
    "* NumPy operations are done on an <b><font color=\"green\">element-by-element</font></b> basis"
   ]
  },
  {
   "cell_type": "code",
   "execution_count": null,
   "metadata": {},
   "outputs": [],
   "source": [
    "# Python's '+' i.e. addition is overriden in NumPy \n",
    "N = 5\n",
    "x = [i for i in range(N)]\n",
    "y = N*[1]\n",
    "print(\"  x:{0}\".format(x))\n",
    "print(\"  y:{0}\".format(y))\n",
    "print(\"  x+y:{0}\".format(x+y))"
   ]
  },
  {
   "cell_type": "code",
   "execution_count": null,
   "metadata": {},
   "outputs": [],
   "source": [
    "# Numpy's addition\n",
    "x = np.array(x)\n",
    "y = np.array(y)\n",
    "print(\"  x:{0}\".format(x))\n",
    "print(\"  y:{0}\".format(y))\n",
    "print(\"  x+y:{0}\".format(x+y))"
   ]
  },
  {
   "cell_type": "markdown",
   "metadata": {},
   "source": [
    "<b>Note</b>:<br>\n",
    "The '*' operator is overriden in NumPy as well.<br>\n",
    "What is the diffference?"
   ]
  },
  {
   "cell_type": "markdown",
   "metadata": {},
   "source": [
    "#### Examples:"
   ]
  },
  {
   "cell_type": "code",
   "execution_count": null,
   "metadata": {},
   "outputs": [],
   "source": [
    "# Numpy Multiplication\n",
    "x = rnd.randint(3,10,(4,4))\n",
    "y = rnd.randint(1,5,(4,4))\n",
    "\n",
    "x = np.array(x)\n",
    "y = np.array(y)\n",
    "print(\"  x:\\n{0}\\n\".format(x))\n",
    "print(\"  y:\\n{0}\\n\".format(y))\n",
    "print(\"  x*y:\\n{0}\\n\".format(x*y))"
   ]
  },
  {
   "cell_type": "code",
   "execution_count": null,
   "metadata": {},
   "outputs": [],
   "source": [
    "# b. Boolean operators working on NumPy arrays\n",
    "x = rnd.randint(4,8,(12))\n",
    "y = rnd.randint(4,8,(12))\n",
    "print(\"  x={0}\".format(x))\n",
    "print(\"  y={0}\\n\".format(y))\n",
    "print(\"  ==      : {0}\".format(x==y))\n",
    "print(\"  !=      : {0}\".format(x!=y))\n",
    "print(\"  not(!=) : {0}\".format(~(x!=y)))\n",
    "print(\"  >=      : {0}\".format(x>=y))\n",
    "print(\"  x>7     : {0}\".format(x>7))\n",
    "\n",
    "# There are also bit operators\n",
    "# To combine logical operations: &, |, ^, ~\n",
    "# See also: https://www.safaribooksonline.com/library/view/python-for-data/9781449323592/ch04.html\n",
    "\n",
    "\n",
    "## Matrices\n",
    "# also --> el. by. el.\n",
    "# How to do matrix multiplicationn??\n",
    "# There is a native 2D matrix type -> do not use!"
   ]
  },
  {
   "cell_type": "markdown",
   "metadata": {},
   "source": [
    "#### Combining boolean operators for ndarray objects\n"
   ]
  },
  {
   "cell_type": "markdown",
   "metadata": {},
   "source": [
    "<font color=\"green\"><b>Regular python</b></font> : \n",
    "* and  \n",
    "* or  (inclusive or)\n",
    "* not (negation operator)\n",
    "* !=  (exclusive or)\n",
    " "
   ]
  },
  {
   "cell_type": "code",
   "execution_count": null,
   "metadata": {},
   "outputs": [],
   "source": [
    "# Combing boolean operator the 'Python' way\n",
    "x < 5 or y>7"
   ]
  },
  {
   "cell_type": "markdown",
   "metadata": {},
   "source": [
    "<font color=\"green\"><b>Numpy</b></font>:\n",
    "* & : and operator\n",
    "* | : inclusive or operator\n",
    "* ~ : negation operator\n",
    "* ^ : exclusive or (xor)"
   ]
  },
  {
   "cell_type": "code",
   "execution_count": null,
   "metadata": {},
   "outputs": [],
   "source": [
    "# Combining boolean operators in NumPy\n",
    "print(\"  x                 : {0}\".format(x))\n",
    "print(\"  y                 : {0}\\n\".format(y))\n",
    "v1 = (x<8) & (x>4)\n",
    "print(\"  (x<8) & (x>4)     : {0}\".format(v1))\n",
    "v2 = (x<6) | (x>7)\n",
    "print(\"  (x<6) | (x>7)     : {0}\".format(v2))\n",
    "v3 = ~(x==6)\n",
    "print(\"  ~(x==6)           : {0}\".format(v3))\n",
    "v4 = (x<6) ^ (x<7)   \n",
    "print(\"  (x<6) ^ (x<7)     : {0}\".format(v4))"
   ]
  },
  {
   "cell_type": "markdown",
   "metadata": {},
   "source": [
    "### How to perform matrix multiplications in Numpy?"
   ]
  },
  {
   "cell_type": "markdown",
   "metadata": {},
   "source": [
    "* Numpy operation works in an el. by el. fashion\n",
    "* To perform matrix multiplications in numpy -> <font color=\"green\"><b>np.dot</b></font> function"
   ]
  },
  {
   "cell_type": "markdown",
   "metadata": {},
   "source": [
    "#### Examples:"
   ]
  },
  {
   "cell_type": "code",
   "execution_count": null,
   "metadata": {},
   "outputs": [],
   "source": [
    "# np.dot (1D case)\n",
    "a = rnd.randint(4,10,(10))\n",
    "b = rnd.randint(1,5,(10))\n",
    "\n",
    "print(\"  a                 : {0}\".format(a))\n",
    "print(\"  b                 : {0}\".format(b))\n",
    "print(\"  a.b (dot-product) : {0}\".format(np.dot(a,b)))\n",
    "print(\"  a.b (dot.product) : {0}\".format(np.sum(a*b)))"
   ]
  },
  {
   "cell_type": "code",
   "execution_count": null,
   "metadata": {},
   "outputs": [],
   "source": [
    "# np.dot (2D case) -> Matrix Multiplication\n",
    "c = rnd.randint(4,10,(2,4))\n",
    "d = rnd.randint(1,5,(4,3))\n",
    "\n",
    "print(\"  c:\\n {0}\\n\".format(c))\n",
    "print(\"  d:\\n {0}\\n\".format(d))\n",
    "print(\"  c.d (Matrix Multiplication):\\n {0}\".format(np.dot(c,d)))"
   ]
  },
  {
   "cell_type": "markdown",
   "metadata": {},
   "source": [
    "## Broadcasting"
   ]
  },
  {
   "cell_type": "markdown",
   "metadata": {},
   "source": [
    "Let's start with a few simple examples/tests ..."
   ]
  },
  {
   "cell_type": "markdown",
   "metadata": {},
   "source": [
    "#### Example 1:"
   ]
  },
  {
   "cell_type": "code",
   "execution_count": null,
   "metadata": {},
   "outputs": [],
   "source": [
    "x = np.arange(1,5)\n",
    "y = np.arange(10,50,10)\n",
    "print(\"  x      : {0}\".format(x))\n",
    "print(\"  x.shape: {0}\\n\".format(x.shape))\n",
    "print(\"  y  : {0}\".format(y))\n",
    "print(\"  y.shape: {0}\\n\".format(y.shape))\n",
    "print(\"  x+y: {0}\".format(x+y))\n",
    "print(\"  (x+y).shape:{0}\".format((x+y).shape))"
   ]
  },
  {
   "cell_type": "markdown",
   "metadata": {},
   "source": [
    "#### Example 2:"
   ]
  },
  {
   "cell_type": "code",
   "execution_count": null,
   "metadata": {},
   "outputs": [],
   "source": [
    "x = np.arange(1,5)\n",
    "y = np.arange(1,4)\n",
    "print(\"  x      : {0}\".format(x))\n",
    "print(\"  x.shape: {0}\\n\".format(x.shape))\n",
    "print(\"  y  : {0}\".format(y))\n",
    "print(\"  y.shape: {0}\\n\".format(y.shape))\n",
    "print(\"  x+y: {0}\".format(x+y))"
   ]
  },
  {
   "cell_type": "markdown",
   "metadata": {},
   "source": [
    "#### Example 3:"
   ]
  },
  {
   "cell_type": "code",
   "execution_count": null,
   "metadata": {},
   "outputs": [],
   "source": [
    "# Example 3:\n",
    "x = np.arange(1,5)\n",
    "y = np.random.randint(0,11,(3,4))\n",
    "print(\"  x  : \\n{0}\".format(x))\n",
    "print(\"  y  : \\n{0}\".format(y))\n",
    "print(\"  x+y: \\n{0}\".format(x+y))"
   ]
  },
  {
   "cell_type": "markdown",
   "metadata": {},
   "source": [
    "### The rules of the game"
   ]
  },
  {
   "cell_type": "markdown",
   "metadata": {},
   "source": [
    "* Definition :: required to operate on (some) arrays with <b>mismatched</b> shapes\n",
    "* Start with the trailing dimenions (i.e. from right to left)\n",
    "* Two dimensions of the array are <b>compatible</b> iff\n",
    "  * they both have the <b>same</b> dimension\n",
    "  * <b>one</b> of the dimension is 1\n",
    "\n",
    "Note:<br>\n",
    "<font color=\"green\"><b>Both arrays can have a different #axes</b></font>"
   ]
  },
  {
   "cell_type": "markdown",
   "metadata": {},
   "source": [
    "#### Examples:"
   ]
  },
  {
   "cell_type": "code",
   "execution_count": null,
   "metadata": {},
   "outputs": [],
   "source": [
    "# Example 1\n",
    "# Res: x: 4 x 1\n",
    "#      y:     5\n",
    "# -------------\n",
    "#    x+y: 4 x 5\n",
    "#---------------\n",
    "x = rnd.random(4).reshape(4,1)\n",
    "y = np.arange(5)\n",
    "print(\"  x  : \\n{0}\".format(x))\n",
    "print(\"  y  : \\n{0}\".format(y))\n",
    "print(\"  x+y: \\n{0}\".format(x+y))"
   ]
  },
  {
   "cell_type": "code",
   "execution_count": null,
   "metadata": {},
   "outputs": [],
   "source": [
    "# Example 2\n",
    "# Res: x: 13 x 1 x 7 x 1\n",
    "#      y:      8 x 7 x 5\n",
    "# -------------\n",
    "#    res: 13 x 8 x 7 x 5\n",
    "#---------------\n",
    "x=np.arange(91).reshape((13,1,7,1))\n",
    "y=np.arange(8*7*5).reshape((8,7,5))\n",
    "z=x+y\n",
    "print(\"  x.shape:{0}\".format(x.shape))\n",
    "print(\"  y.shape:{0}\".format(y.shape))\n",
    "print(\"  z.shape:{0}\".format(z.shape))"
   ]
  },
  {
   "cell_type": "code",
   "execution_count": null,
   "metadata": {},
   "outputs": [],
   "source": [
    "# Example 3:\n",
    "# Res: x: 3 x 8 x 3\n",
    "#      y:     3 x 1\n",
    "# -------------\n",
    "#    res:     Error !! (8 & 3)\n",
    "#---------------\n",
    "x=np.arange(72).reshape((3,8,3))\n",
    "y=np.arange(9).reshape((3,3))\n",
    "z=x+y\n",
    "print(\"  x.shape:{0}\".format(x.shape))\n",
    "print(\"  y.shape:{0}\".format(y.shape))\n",
    "print(\"  z.shape:{0}\".format(z.shape))"
   ]
  },
  {
   "cell_type": "markdown",
   "metadata": {},
   "source": [
    "### Adding & Removing Singleton Dimensions"
   ]
  },
  {
   "cell_type": "markdown",
   "metadata": {},
   "source": [
    "Axes of dim 1 (singleton dimensions) are a central tool for broadcasting.<br>\n",
    "There are situations in which, one wants to:\n",
    "* <b>remove</b> singleton dimensions:\n",
    "  * use <b><font color=\"green\">numpy.squeeze(a,axis=None)</font></b>\n",
    "    * a: input data\n",
    "    * axis : integer/tuple\n",
    "    * default: all singleton dimensions\n",
    "  \n",
    "* <b>add</b> singleton dimensions:\n",
    "  * use <b><font color=\"green\">numpy.newaxis</font></b>\n",
    "    * expand the dimension by 1 unit\n",
    "    * to be added where you want to add the dimension"
   ]
  },
  {
   "cell_type": "markdown",
   "metadata": {},
   "source": [
    "#### Examples:"
   ]
  },
  {
   "cell_type": "code",
   "execution_count": null,
   "metadata": {},
   "outputs": [],
   "source": [
    "# np.squeeze() function i.e. Removing Singleton axes\n",
    "a=np.arange(120).reshape((2,1,3,5,1,4))\n",
    "print(\"  a.shape: {0}\".format(a.shape))\n",
    "b=np.squeeze(a,axis=1)\n",
    "print(\"  b.shape: {0}\".format(b.shape))\n",
    "c=np.squeeze(a,axis=4)\n",
    "print(\"  c.shape: {0}\".format(c.shape))\n",
    "d=np.squeeze(a)\n",
    "print(\"  d.shape: {0}\".format(d.shape))"
   ]
  },
  {
   "cell_type": "code",
   "execution_count": null,
   "metadata": {},
   "outputs": [],
   "source": [
    "# Adding Singleton Axes\n",
    "a = np.arange(24).reshape((2,3,4))\n",
    "print(\"  a.shape: {0}\".format(a.shape))\n",
    "b = a[np.newaxis,:,:,:]\n",
    "print(\"  b.shape: {0}\".format(b.shape))\n",
    "c = a[np.newaxis,...]\n",
    "print(\"  c.shape: {0}\".format(c.shape))\n",
    "d=a[:,np.newaxis,:,:,np.newaxis]\n",
    "print(\"  d.shape: {0}\".format(d.shape))"
   ]
  },
  {
   "cell_type": "markdown",
   "metadata": {},
   "source": [
    "<font color=\"red\"><b>Swapping axes</b></font><br>\n",
    "To be added (more advanced)"
   ]
  },
  {
   "cell_type": "markdown",
   "metadata": {},
   "source": [
    "### Exercises:"
   ]
  },
  {
   "cell_type": "markdown",
   "metadata": {},
   "source": [
    "* Create the following 6x6 matrix $A$ (containing only <font color=\"green\"><b>int32</b></font> elements)):<br>\n",
    "    $\\begin{equation*}A = \\begin{pmatrix}\n",
    "       1 & 1 &  1 &   1 &   1 &   1 \\\\\n",
    "       1 & 8 &  1 &   1 &   1 &   1 \\\\ \n",
    "       1 & 1 &  27 &   1 &   1 &   1 \\\\\n",
    "       1 & 1 &  1 &   64 &   1 &   1 \\\\\n",
    "       1 & 1 &  1 &   1 &  125 &   1 \\\\\n",
    "       1 & 1 &  1 &   1 &   1 &   216 \n",
    "      \\end{pmatrix}\\end{equation*}$\n",
    "* Create a new matrix $B$ ($MxN$) where:\n",
    "  * $\\begin{equation*}B_{ij} =  \\frac{1}{X_i - Y_j} \\end{equation*}$\n",
    "  * $X_i$ $\\in$ $X$  ($i=0,\\ldots,M-1$)<br>\n",
    "    is a random vector of length $M=9$ \n",
    "  * $Y_j$ $\\in$ $Y$  ($j=0,\\ldots,N-1$)<br>\n",
    "    is a random vector of length $N=6$ \n",
    "    \n",
    "  Matrices of the type $B$ are known as <font color=\"blue\"><b>Cauchy</b></font> matrices "
   ]
  },
  {
   "cell_type": "markdown",
   "metadata": {},
   "source": [
    "### Solutions:"
   ]
  },
  {
   "cell_type": "code",
   "execution_count": null,
   "metadata": {},
   "outputs": [],
   "source": [
    "# %load ../solutions/ex4.py"
   ]
  }
 ],
 "metadata": {
  "kernelspec": {
   "display_name": "Python 3",
   "language": "python",
   "name": "python3"
  },
  "language_info": {
   "codemirror_mode": {
    "name": "ipython",
    "version": 3
   },
   "file_extension": ".py",
   "mimetype": "text/x-python",
   "name": "python",
   "nbconvert_exporter": "python",
   "pygments_lexer": "ipython3",
   "version": "3.6.4"
  }
 },
 "nbformat": 4,
 "nbformat_minor": 2
}
