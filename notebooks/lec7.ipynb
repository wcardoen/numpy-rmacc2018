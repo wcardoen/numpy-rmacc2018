{
 "cells": [
  {
   "cell_type": "markdown",
   "metadata": {},
   "source": [
    "# Lecture 7"
   ]
  },
  {
   "cell_type": "code",
   "execution_count": null,
   "metadata": {},
   "outputs": [],
   "source": [
    "%run set_env.py\n",
    "%matplotlib inline"
   ]
  },
  {
   "cell_type": "markdown",
   "metadata": {},
   "source": [
    "## A. hstack, vstack & concatenate:"
   ]
  },
  {
   "cell_type": "markdown",
   "metadata": {},
   "source": [
    "* vstack, hstack each concatenate <font color=\"green\"><b>along an axis</b></font>.\n",
    "* All functions <font color=\"green\"><b>REQUIRE a tuple</b></font> as input."
   ]
  },
  {
   "cell_type": "code",
   "execution_count": null,
   "metadata": {},
   "outputs": [],
   "source": [
    "# VSTACK & CONCATENATE:\n",
    "# --------------------\n",
    "a = np.arange(1,10).reshape(3,3)\n",
    "b = np.arange(10,100,10).reshape((3,3))\n",
    "\n",
    "print(\"  a:\\n{0}\".format(a))\n",
    "print(\"  b:\\n{0}\".format(b))\n",
    "print(\"  Vertical Stacking w. 'np.vstack':\\n{0}\\n\".format(np.vstack((a,b))))\n",
    "print(\"  Vertical Stacking w. 'np.concatenate' along rows (axis=0):\\n{0}\\n\".\\\n",
    "      format(np.concatenate((a,b),axis=0)))"
   ]
  },
  {
   "cell_type": "code",
   "execution_count": null,
   "metadata": {},
   "outputs": [],
   "source": [
    "# HSTACK & CONCATENATE:\n",
    "# --------------------\n",
    "a = np.arange(1,10).reshape(3,3)\n",
    "c = np.arange(18,36).reshape(3,6)\n",
    "print(\"  a:\\n{0}\\n\".format(a))\n",
    "print(\"  c:\\n{0}\\n\".format(c))\n",
    "res1_ac = np.hstack((a,c))\n",
    "print(\"  Horizontal Stacking w. 'np.hstack':\\n{0}\\n\".format(res1_ac))\n",
    "res1_ca = np.hstack((c,a))\n",
    "print(\"  Horizontal Stacking w. 'np.hstack':\\n{0}\\n\".format(res1_ca))\n",
    "res2_ac = np.concatenate((a,c),axis=1)\n",
    "print(\"  Horizontal Stacking w. 'np.concatenate' along rows (axis=1):\\n{0}\\n\".format(res2_ac))"
   ]
  },
  {
   "cell_type": "markdown",
   "metadata": {},
   "source": [
    "### What about the 1D Vector case?"
   ]
  },
  {
   "cell_type": "code",
   "execution_count": null,
   "metadata": {},
   "outputs": [],
   "source": [
    "# 1D Case Vectors\n",
    "import numpy as np\n",
    "x = np.arange(0,5)\n",
    "y = np.arange(10,15)\n",
    "print(\"  x:\\n{0}\\n\".format(x))\n",
    "print(\"  y:\\n{0}\\n\".format(y))\n",
    "print(\"  x.shape:{0}\".format(x.shape))\n",
    "print(\"  y.shape:{0}\".format(y.shape))\n",
    "\n",
    "print(\"    vtack:\\n{0}\\n\".format(np.vstack((x,y))))\n",
    "print(\"    hstack:\\n{0}\\n\".format(np.hstack((x,y))))\n",
    "# NOTE: We ONLY have 1 axis:\n",
    "print(\"    concatenate along rows (axis=0):\\n{0}\\n\".format(np.concatenate((x,y),axis=0)))"
   ]
  },
  {
   "cell_type": "markdown",
   "metadata": {},
   "source": [
    "### Case 1: Adding an extra axis to dimension=0:"
   ]
  },
  {
   "cell_type": "code",
   "execution_count": null,
   "metadata": {},
   "outputs": [],
   "source": [
    "# What happens when I add an extra axis (Dimension:0)\n",
    "a = x[np.newaxis,:]\n",
    "b = y[np.newaxis,:]\n",
    "print(\"  a.shape:{0}\".format(a.shape))\n",
    "print(\"  b.shape:{0}\".format(b.shape))\n",
    "print(\"  a:\\n{0}\\n\".format(a))\n",
    "print(\"  b:\\n{0}\\n\".format(b))\n",
    "print(\"  Vertical stack  :\\n{0}\\n\".format(np.vstack((a,b))))\n",
    "print(\"  Horizontal stack:\\n{0}\\n\".format(np.hstack((a,b))))\n",
    "\n",
    "print(\"  Concatenate along rows (axis=0):\\n{0}\\n\".format(np.concatenate((a,b),axis=0)))\n",
    "print(\"  Concatenate along rows (axis=1):\\n{0}\\n\".format(np.concatenate((a,b),axis=1)))"
   ]
  },
  {
   "cell_type": "markdown",
   "metadata": {},
   "source": [
    "### Case 2: Adding an extra axis to dimension=1:"
   ]
  },
  {
   "cell_type": "code",
   "execution_count": null,
   "metadata": {},
   "outputs": [],
   "source": [
    "a = x[:,np.newaxis]\n",
    "b = y[:,np.newaxis]\n",
    "\n",
    "print(\"  a.shape:{0}\".format(a.shape))\n",
    "print(\"  b.shape:{0}\".format(b.shape))\n",
    "print(\"  a:\\n{0}\\n\".format(a))\n",
    "print(\"  b:\\n{0}\\n\".format(b))\n",
    "print(\"  Vertical stack  :\\n{0}\\n\".format(np.vstack((a,b))))\n",
    "print(\"  Horizontal stack:\\n{0}\\n\".format(np.hstack((a,b))))\n",
    "\n",
    "print(\"  Concatenate along rows (axis=0):\\n{0}\\n\".format(np.concatenate((a,b),axis=0)))\n",
    "print(\"  Concatenate along rows (axis=1):\\n{0}\\n\".format(np.concatenate((a,b),axis=1)))"
   ]
  },
  {
   "cell_type": "markdown",
   "metadata": {},
   "source": [
    "## B. Info on regular Numpy types:"
   ]
  },
  {
   "cell_type": "code",
   "execution_count": null,
   "metadata": {},
   "outputs": [],
   "source": [
    "print(np.finfo(np.float64))\n",
    "print(np.finfo(np.complex128))\n",
    "print(np.iinfo(np.int8))"
   ]
  },
  {
   "cell_type": "markdown",
   "metadata": {},
   "source": [
    "## C. Special types in Numpy"
   ]
  },
  {
   "cell_type": "markdown",
   "metadata": {},
   "source": [
    "* Regular Python throws a <font color=\"red\"><b>ZeroDivisonError</b></font> when trying \n",
    "to divide a number by <font color=\"red\"><b>0</b></font>.\n",
    "* You can always <font color=\"green\"><b>catch the error with a \n",
    "  try-except construct"
   ]
  },
  {
   "cell_type": "markdown",
   "metadata": {},
   "source": [
    "### Example: Sinc in regular python"
   ]
  },
  {
   "cell_type": "markdown",
   "metadata": {},
   "source": [
    "$\\begin{eqnarray}\n",
    "\\text{sinc}(x) & := & \\frac{\\sin(x)}{x}\n",
    "\\end{eqnarray}$\n",
    "<br>\n",
    "and <br>\n",
    "$\\begin{eqnarray}\n",
    "\\lim_{x \\rightarrow 0} \\, \\frac{\\sin(x)}{x} & = & 1\n",
    "\\end{eqnarray}$"
   ]
  },
  {
   "cell_type": "code",
   "execution_count": null,
   "metadata": {},
   "outputs": [],
   "source": [
    "# sinc code (Version 1)\n",
    "from math import sin\n",
    "\n",
    "def sinc(x):\n",
    "    \"\"\"\n",
    "    Naive Definition of the sinc function\n",
    "    defined as sin(x)/x\n",
    "    \"\"\"\n",
    "    return sin(x)/x\n",
    "\n",
    "lst = [5.0,0.0]\n",
    "for x in lst:\n",
    "    print(\"  {0}  {1}\".format(x,sinc(x)))"
   ]
  },
  {
   "cell_type": "code",
   "execution_count": null,
   "metadata": {},
   "outputs": [],
   "source": [
    "# sinc code (Version 2)\n",
    "from math import sin\n",
    "\n",
    "def sinc(x):\n",
    "    \"\"\"\n",
    "    Sinc Function :: sin(x)/x\n",
    "    Improved version #1\n",
    "    \"\"\"\n",
    "    try:\n",
    "        return sin(x)/x\n",
    "    except ZeroDivisionError:\n",
    "        return 1.00\n",
    "    \n",
    "lst = [5.0,0.0]\n",
    "for x in lst:\n",
    "    print(\"  {0}  {1}\".format(x,sinc(x)))    "
   ]
  },
  {
   "cell_type": "markdown",
   "metadata": {},
   "source": [
    "### Numpy:"
   ]
  },
  {
   "cell_type": "markdown",
   "metadata": {},
   "source": [
    "* has np.inf & as np.nan\n",
    "* nan (not a number) **NOT** the same as inf\n",
    "* nan & inf are both of the type **np.float64** <br>\n",
    "  Why? NumPy uses the IEEE Standard for Binary Floating-Point for Arithmetic (IEEE 754)<br>\n",
    "  <a href=\"https://ieeexplore.ieee.org/document/4610935/\">754-2008 - IEEE Standard for Floating-Point Arithmetic</a>"
   ]
  },
  {
   "cell_type": "code",
   "execution_count": null,
   "metadata": {},
   "outputs": [],
   "source": [
    "np.seterr('ignore')  # ignore action\n",
    "# np.seterr('warn')  # print runtime warning\n",
    "\n",
    "from math import pi\n",
    "x     = np.array([-1.0,0.0,1.0])\n",
    "res_x = np.log(x)\n",
    "print(\"  x  :\\n{0}\\n\".format(x))\n",
    "print(\"  res (i.e. np.log(x)):\\n{0}\\n\".format(res_x))\n",
    "\n",
    "y = -5\n",
    "print(\"  y  :{0}\".format(y))\n",
    "print(\"  => np.sqrt(y):{0}\".format(np.sqrt(y)))"
   ]
  },
  {
   "cell_type": "markdown",
   "metadata": {},
   "source": [
    "contains <font color=\"green\"><b>testing functions</b></font> like:\n",
    "* np.isfinite\n",
    "* np.isinf\n",
    "* np.isneginf\n",
    "* np.isposinf\n",
    "* np.isnan"
   ]
  },
  {
   "cell_type": "code",
   "execution_count": null,
   "metadata": {},
   "outputs": [],
   "source": [
    "np.seterr('ignore')\n",
    "print(\"  res_x            :{0}\".format(res_x))\n",
    "print(\"  res_x:isnan?     :{0}\".format(np.isnan(res_x)))\n",
    "print(\"     dtype(res_x)  :{0}\\n\".format(res_x.dtype))\n",
    "\n",
    "y = 0.\n",
    "res_y = np.log(y)\n",
    "print(\"  res_y:isfinite?  :{0}\".format(np.isfinite(res_y)))\n",
    "print(\"  res_y:isinf?     :{0}\".format(np.isinf(res_y)))\n",
    "print(\"  res_y:isposinf?  :{0}\".format(np.isposinf(res_y)))\n",
    "print(\"  res_y:isneginf?  :{0}\".format(np.isneginf(res_y)))\n",
    "print(\"    dtype(res_y)   :{0}\".format(res_y.dtype))"
   ]
  },
  {
   "cell_type": "markdown",
   "metadata": {},
   "source": [
    "#### Working with vectors containg nan & inf"
   ]
  },
  {
   "cell_type": "code",
   "execution_count": null,
   "metadata": {},
   "outputs": [],
   "source": [
    "x = np.arange(10)\n",
    "print(\"  x:{0}\".format(x))\n",
    "print(\"  x.dtype:{0}\".format(x))\n",
    "print(\"  sum(x) :{0}\".format(np.sum(x)))"
   ]
  },
  {
   "cell_type": "code",
   "execution_count": null,
   "metadata": {},
   "outputs": [],
   "source": [
    "# Try to set x[5] to nan ... \n",
    "x[5] = np.nan"
   ]
  },
  {
   "cell_type": "markdown",
   "metadata": {},
   "source": [
    "* <font color=\"red\"><b>Why?</b></font><br>\n",
    "  Earlier we mentioned that *np.nan* is of the **np.float64** type<br>\n",
    "  but x is of the type **np.int64** <br>\n",
    "  (Mutatis mutandis for *np.inf*)\n",
    "  \n",
    "* <font color=\"green\"><b>Solution?</b></font><br>\n",
    "  Do a cast -> use np.astype"
   ]
  },
  {
   "cell_type": "code",
   "execution_count": null,
   "metadata": {},
   "outputs": [],
   "source": [
    "x = x.astype(dtype='float64')\n",
    "print(\"  x:{0}\".format(x))\n",
    "print(\"  x.dtype:{0}\".format(x.dtype))\n",
    "print(\"  sum(x)   (PRE CHANGE)   :{0}\".format(np.sum(x)))\n",
    "x[5] = np.nan\n",
    "print(\"  sum(x)   (AFTER CHANGE) :{0}\".format(np.sum(x)))\n",
    "print(\"  prod(x)  (AFTER CHANGE) :{0}\".format(np.prod(x)))"
   ]
  },
  {
   "cell_type": "markdown",
   "metadata": {},
   "source": [
    "#### Vector operations with np.nan"
   ]
  },
  {
   "cell_type": "markdown",
   "metadata": {},
   "source": [
    "Numpy contains functions that skip the nan elements:\n",
    "* np.sum -> np.nansum\n",
    "* np.cumsum -> np.nancumsum\n",
    "* np.prod -> np.nanprod\n",
    "* ...  \n",
    "\n",
    "More & more functions are still added over time."
   ]
  },
  {
   "cell_type": "code",
   "execution_count": null,
   "metadata": {},
   "outputs": [],
   "source": [
    "print(\"  x:{0}\".format(x))\n",
    "print(\"    np.nansum(x)  :{0}\".format(np.nansum(x)))\n",
    "print(\"    np.nanprod(x) :{0}\".format(np.nanprod(x)))"
   ]
  },
  {
   "cell_type": "markdown",
   "metadata": {},
   "source": [
    "### Exercise"
   ]
  },
  {
   "cell_type": "markdown",
   "metadata": {},
   "source": [
    "* Use a mask to calculate the sum & product of the following vector:<br>\n",
    "  x:[ 1.  2. nan  4.  5.  6.  7. nan  9.] <br>\n",
    "  without invoking neither np.nansum nor np.nanprod "
   ]
  },
  {
   "cell_type": "code",
   "execution_count": null,
   "metadata": {},
   "outputs": [],
   "source": [
    "# %load ../solutions/ex7.py"
   ]
  }
 ],
 "metadata": {
  "kernelspec": {
   "display_name": "Python 3",
   "language": "python",
   "name": "python3"
  },
  "language_info": {
   "codemirror_mode": {
    "name": "ipython",
    "version": 3
   },
   "file_extension": ".py",
   "mimetype": "text/x-python",
   "name": "python",
   "nbconvert_exporter": "python",
   "pygments_lexer": "ipython3",
   "version": "3.6.5"
  }
 },
 "nbformat": 4,
 "nbformat_minor": 2
}
