{
 "cells": [
  {
   "cell_type": "markdown",
   "metadata": {},
   "source": [
    "# Lecture 6"
   ]
  },
  {
   "cell_type": "code",
   "execution_count": 8,
   "metadata": {},
   "outputs": [
    {
     "name": "stdout",
     "output_type": "stream",
     "text": [
      "Check versions:\n",
      "  numpy version     :'1.14.3'\n",
      "  matplotlib version:'2.2.2'\n"
     ]
    }
   ],
   "source": [
    "%run set_env.py\n",
    "%matplotlib inline"
   ]
  },
  {
   "cell_type": "markdown",
   "metadata": {},
   "source": [
    "## Fancy Indexing"
   ]
  },
  {
   "cell_type": "markdown",
   "metadata": {},
   "source": [
    "* Previously we discussed <font color=\"green\"><b>slicing</b></font> (which generates a <font color=\"green\"><b>view</b></font>/reference).\n",
    "* Sometimes we need a <font color=\"blue\"><b>more general approach</b></font> than slicing<br>\n",
    "  i.e. to obtain <font color=\"blue\"><b>\"irregular\"</b></font> portions of an array => <font color=\"green\"><b>Fancy Indexing</b></font>\n",
    "* Fancy Indexing: generates a <font color=\"green\"><b>copy</b></font> because it can in general\n",
    "  not be expressed as a slice (using offsets, strides,..)\n",
    "* In praxi, there are <font color=\"green\"><b>2 approaches</b></font> to fancy indexing:\n",
    "  * indexing by booleans (i.e. masks/masked arrays)\n",
    "  * indexing by position\n",
    "\n",
    " "
   ]
  },
  {
   "cell_type": "markdown",
   "metadata": {},
   "source": [
    "### Indexing by Booleans:"
   ]
  },
  {
   "cell_type": "markdown",
   "metadata": {},
   "source": [
    "* requires a <font color=\"green\"><b>boolean ndarray/mask</b></font>\n",
    "* the boolean ndarray MUST have the <font color=\"green\"><b>same shape</b></font><br> \n",
    "  as the ndarray to which it will be applied"
   ]
  },
  {
   "cell_type": "markdown",
   "metadata": {},
   "source": [
    "#### Example:"
   ]
  },
  {
   "cell_type": "code",
   "execution_count": 9,
   "metadata": {},
   "outputs": [],
   "source": [
    "from math import pi\n",
    "np.set_printoptions(precision=5)\n",
    "\n",
    "def myufunc(x):\n",
    "    \"\"\"\n",
    "    My own non-linear ufunc:\n",
    "       sin(x) + sin(2x) + cos(x) + cos(2x) + ln(x+1)\n",
    "    \"\"\"\n",
    "    return np.sin(x) + np.sin(2*x) + \\\n",
    "           np.cos(x) + np.cos(2*x) + \\\n",
    "           np.log(x+1)"
   ]
  },
  {
   "cell_type": "code",
   "execution_count": 10,
   "metadata": {},
   "outputs": [
    {
     "name": "stdout",
     "output_type": "stream",
     "text": [
      "  x.shape:(60,)\n",
      "  x:\n",
      "[0.      0.10649 0.21299 0.31948 0.42598 0.53247 0.63897 0.74546 0.85196\n",
      " 0.95845 1.06495 1.17144 1.27794 1.38443 1.49093 1.59742 1.70391 1.81041\n",
      " 1.9169  2.0234  2.12989 2.23639 2.34288 2.44938 2.55587 2.66237 2.76886\n",
      " 2.87536 2.98185 3.08835 3.19484 3.30133 3.40783 3.51432 3.62082 3.72731\n",
      " 3.83381 3.9403  4.0468  4.15329 4.25979 4.36628 4.47278 4.57927 4.68577\n",
      " 4.79226 4.89875 5.00525 5.11174 5.21824 5.32473 5.43123 5.53772 5.64422\n",
      " 5.75071 5.85721 5.9637  6.0702  6.17669 6.28319]\n",
      "\n",
      "  y.shape:(60,)\n",
      "  y:\n",
      "[ 2.       2.39061  2.70572  2.93979  3.08979  3.15542  3.13926  3.0467\n",
      "  2.88575  2.66671  2.40173  2.10435  1.78887  1.46976  1.16105  0.87574\n",
      "  0.62526  0.41899  0.26391  0.16431  0.12169  0.13473  0.19939  0.30921\n",
      "  0.4556   0.62833  0.81606  1.00686  1.18886  1.35082  1.48268  1.57607\n",
      "  1.62473  1.62484  1.57522  1.47738  1.33553  1.15636  0.94878  0.72349\n",
      "  0.4925   0.26861  0.06477 -0.10649 -0.23366 -0.30684 -0.31815 -0.26221\n",
      " -0.13636  0.05912  0.32101  0.64323  1.01703  1.43136  1.87332  2.32866\n",
      "  2.78238  3.21933  3.6249   3.98557]\n",
      "\n"
     ]
    }
   ],
   "source": [
    "x = np.linspace(0,2.*pi,60)\n",
    "y = myufunc(x)\n",
    "print(\"  x.shape:{0}\".format(x.shape))\n",
    "print(\"  x:\\n{0}\\n\".format(x))\n",
    "print(\"  y.shape:{0}\".format(y.shape))\n",
    "print(\"  y:\\n{0}\\n\".format(y))"
   ]
  },
  {
   "cell_type": "code",
   "execution_count": 11,
   "metadata": {},
   "outputs": [
    {
     "data": {
      "image/png": "[encoded data removed]",
      "text/plain": [
       "<Figure size 432x288 with 1 Axes>"
      ]
     },
     "metadata": {},
     "output_type": "display_data"
    }
   ],
   "source": [
    "# Plot (ALL POINTS)\n",
    "plt.xlabel(\"x\")\n",
    "plt.ylabel(\"ufunc(x)\")\n",
    "plt.plot(x,y,'--');"
   ]
  },
  {
   "cell_type": "markdown",
   "metadata": {},
   "source": [
    "##### Apply restrictions/selection using a mask:"
   ]
  },
  {
   "cell_type": "code",
   "execution_count": 12,
   "metadata": {},
   "outputs": [
    {
     "name": "stdout",
     "output_type": "stream",
     "text": [
      "  mask.shape:(60,)\n",
      "  mask:\n",
      "[ True  True  True  True False False False False  True  True  True  True\n",
      "  True  True  True False False False False False False False False False\n",
      " False False False  True  True  True  True  True  True  True  True  True\n",
      "  True  True False False False False False False False False False False\n",
      " False False False False  True  True  True  True  True False False False]\n",
      "\n"
     ]
    }
   ],
   "source": [
    "# Apply mask to the signal\n",
    "mask = (y>1.) & (y<3.)   # DO NOT FORGET the Round Brackets => ERROR!\n",
    "print(\"  mask.shape:{0}\".format(mask.shape))\n",
    "print(\"  mask:\\n{0}\\n\".format(mask))"
   ]
  },
  {
   "cell_type": "code",
   "execution_count": 13,
   "metadata": {},
   "outputs": [
    {
     "name": "stdout",
     "output_type": "stream",
     "text": [
      "  w.shape:(27,)\n",
      "  w:\n",
      "[0.      0.10649 0.21299 0.31948 0.85196 0.95845 1.06495 1.17144 1.27794\n",
      " 1.38443 1.49093 2.87536 2.98185 3.08835 3.19484 3.30133 3.40783 3.51432\n",
      " 3.62082 3.72731 3.83381 3.9403  5.53772 5.64422 5.75071 5.85721 5.9637 ]\n",
      "\n",
      "  w.flags:\n",
      "  C_CONTIGUOUS : True\n",
      "  F_CONTIGUOUS : True\n",
      "  OWNDATA : True\n",
      "  WRITEABLE : True\n",
      "  ALIGNED : True\n",
      "  WRITEBACKIFCOPY : False\n",
      "  UPDATEIFCOPY : False\n"
     ]
    }
   ],
   "source": [
    "# Use fancy indexing to obtain a subset from x\n",
    "w = x[mask]\n",
    "print(\"  w.shape:{0}\".format(w.shape))\n",
    "print(\"  w:\\n{0}\\n\".format(w))\n",
    "print(\"  w.flags:\\n{0}\".format(w.flags))"
   ]
  },
  {
   "cell_type": "code",
   "execution_count": null,
   "metadata": {},
   "outputs": [],
   "source": [
    "# Get the signals of the subset \n",
    "z = y[mask]\n",
    "print(\"  z.shape:{0}\".format(z.shape))\n",
    "print(\"  z:\\n{0}\\n\".format(z))\n",
    "print(\"  z.flags:\\n{0}\".format(z.flags))"
   ]
  },
  {
   "cell_type": "code",
   "execution_count": 14,
   "metadata": {},
   "outputs": [
    {
     "data": {
      "image/png": "[encoded data removed]",
      "text/plain": [
       "<Figure size 432x288 with 1 Axes>"
      ]
     },
     "metadata": {},
     "output_type": "display_data"
    }
   ],
   "source": [
    "# Final plot\n",
    "plt.xlabel(\"x\")\n",
    "plt.ylabel(\"ufunc(x)\")\n",
    "plt.title(\"Selection of points\")\n",
    "plt.plot(x,y,'--',w,z,'o');\n",
    "plt.axhline(y=3,linewidth=3,color='r');\n",
    "plt.axhline(y=1,linewidth=3,color='r');"
   ]
  },
  {
   "cell_type": "markdown",
   "metadata": {},
   "source": [
    "#### Some handy functions:"
   ]
  },
  {
   "cell_type": "markdown",
   "metadata": {},
   "source": [
    "* np.nonzero(a): return the INDICES of the elements that are NOT zero.<br>\n",
    "  In case of boolean values:\n",
    "  * False := 0\n",
    "  * True is non-zero  \n",
    "* np.where(condition,[x,y]): return elements, either from x or y, depending on condition\n",
    "  * if <font color=\"green\"><b>only the condition</b></font> is given, return condition.nonzero() i.e. \n",
    "    <font color=\"green\"><b>non-zero INDICES</b></font>\n",
    "  * if <font color=\"green\"><b>x and y are also present</b></font>, return elements from \n",
    "    <font color=\"green\"><b>x (TRUE) or y (FALSE)</b></font> depending on the condition      \n",
    "    \n",
    "* <font color=\"green\"><b>NOTE</b></font>:\n",
    "  * np.flatnonzero(a): return the INDICES that are NON zero in the <font color=\"green\"><b>FLATTENED</b></font> version of the input array (a)\n",
    "  * np.unravel_index(indices,dims): convert a FLAT index or array of FLAT indices into a TUPLE of coordinate arrays."
   ]
  },
  {
   "cell_type": "code",
   "execution_count": 16,
   "metadata": {},
   "outputs": [
    {
     "name": "stdout",
     "output_type": "stream",
     "text": [
      "  a:\n",
      "[-10. -20.   3.   0.  60. -12.]\n",
      "\n",
      "  a.non_zero():\n",
      "(array([0, 1, 2, 4, 5]),)\n",
      "\n",
      "  a_cond (a>=3):\n",
      "[False False  True False  True False]\n",
      "\n",
      "  b:\n",
      "(array([2, 4]),)\n",
      "\n",
      "  c:\n",
      "[-1. -1.  3. -1. 60. -1.]\n",
      "\n",
      "  d:\n",
      "[-1. -1.  3. -1. 60. -1.]\n",
      "\n"
     ]
    }
   ],
   "source": [
    "# 1D example:\n",
    "a = np.array([-10.,-20.,3.,0.,60,-12.])\n",
    "print(\"  a:\\n{0}\\n\".format(a))\n",
    "a_ind = a.nonzero()\n",
    "print(\"  a.non_zero():\\n{0}\\n\".format(a_ind))\n",
    "\n",
    "a_cond = (a>=3)\n",
    "b = np.where(a_cond)\n",
    "print(\"  a_cond (a>=3):\\n{0}\\n\".format(a_cond))\n",
    "print(\"  b:\\n{0}\\n\".format(b))\n",
    "\n",
    "c = np.where(a_cond,a, -np.ones_like(a))\n",
    "print(\"  c:\\n{0}\\n\".format(c))\n",
    "d = np.where(a_cond,a, -1)\n",
    "print(\"  d:\\n{0}\\n\".format(d))"
   ]
  },
  {
   "cell_type": "code",
   "execution_count": null,
   "metadata": {},
   "outputs": [],
   "source": [
    "# 2D example:\n",
    "b = np.random.random((5,6))\n",
    "b[b<0.8] = 0.\n",
    "print(\"  b:\\n{0}\\n\".format(b))\n",
    "\n",
    "b_ind1 = b.nonzero()\n",
    "print(\"  b_ind1 (NON-FLATTENED):\\n{0}\\n\".format(b_ind1))\n",
    "print(\"  type(b_ind1):{0}\".format(type(b_ind1)))\n",
    "for item in b_ind1:\n",
    "    print(\"    arr:{0}\".format(item))   \n",
    "    \n",
    "# Get the NON-ZERO el.\n",
    "c = b[b_ind1]\n",
    "print(\"  c:\\n{0}\\n\".format(c))\n",
    "\n",
    "b_ind2 = np.flatnonzero(b)\n",
    "print(\"  b_ind2 (FLATTENED):\\n{0}\\n\".format(b_ind2))\n",
    "\n",
    "b_ind3 = np.unravel_index(b_ind2,b.shape)\n",
    "print(\"  b_ind3 (UNRAVELLED INDEX):\\n{0}\\n\".format(b_ind3))"
   ]
  },
  {
   "cell_type": "markdown",
   "metadata": {},
   "source": [
    "### Indexing by position:"
   ]
  },
  {
   "cell_type": "markdown",
   "metadata": {},
   "source": [
    "* Instead of a boolean mask, we can also can use the <font color=\"green\"><b>indices</b></font> \n",
    "  to retrieve the elements."
   ]
  },
  {
   "cell_type": "markdown",
   "metadata": {},
   "source": [
    "#### Example 1:"
   ]
  },
  {
   "cell_type": "code",
   "execution_count": null,
   "metadata": {},
   "outputs": [],
   "source": [
    "x = np.arange(20,100,10)\n",
    "print(\"  x:{0}\".format(x))\n",
    "ind1 = [2,5,3]         # Python List\n",
    "ind2 = np.array(ind1)  # Numpy array\n",
    "print(\"    -> slice 1:{0}\".format(x[ind1]))\n",
    "print(\"    -> slice 2:{0}\".format(x[ind2]))"
   ]
  },
  {
   "cell_type": "markdown",
   "metadata": {},
   "source": [
    "##### Example 2:\n"
   ]
  },
  {
   "cell_type": "code",
   "execution_count": null,
   "metadata": {},
   "outputs": [],
   "source": [
    "x = np.arange(48).reshape((6,8))\n",
    "print(\"  x:\\n{0}\\n\".format(x))"
   ]
  },
  {
   "cell_type": "code",
   "execution_count": null,
   "metadata": {},
   "outputs": [],
   "source": [
    "# Our goal is to extract the following numbers:\n",
    "# [1,10,11,20,37,47]\n",
    "y = x[ [0,1,1,2,4,5],[1,2,3,4,5,7]] \n",
    "print(\"  y (slice):\\n{0}\\n\".format(y))\n",
    "print(\"  y.flags -> view/copy?:\\n{0}\\n\".format(y.flags))"
   ]
  },
  {
   "cell_type": "code",
   "execution_count": null,
   "metadata": {},
   "outputs": [],
   "source": [
    "# Our goal is to extract [[9,13],[33,37]]\n",
    "y = x[[1,1,4,4],[1,5,1,5]]          # as 1D vector\n",
    "print(\"  sliced version:\\n{0}\\n\".format(y))\n",
    "z = x[[[1,1],[4,4]],[[1,5],[1,5]]]  # as 2D vector\n",
    "print(\"  sliced version:\\n{0}\\n\".format(z)) "
   ]
  },
  {
   "cell_type": "code",
   "execution_count": null,
   "metadata": {},
   "outputs": [],
   "source": [
    "# Combination of regular indexing & fancy indexing\n",
    "w = x[1::3,[1,5]]\n",
    "print(\"  sliced version:\\n{0}\\n\".format(w))"
   ]
  },
  {
   "cell_type": "markdown",
   "metadata": {},
   "source": [
    "### Exercises:"
   ]
  },
  {
   "cell_type": "markdown",
   "metadata": {},
   "source": [
    "* Generate an array of random points $p_i(x_i,y_i)$ in the plane, where <br>\n",
    "  * $i=1,\\ldots,N$ (e.g. $N$=10) <br> \n",
    "  * which <font color=\"green\"><b>ALL</b></font> lie in a square that has the following characteristics:\n",
    "    * centered at (0,0)\n",
    "    * and with vertices: (-1,-1),(-1,1),(1,-1),(1,1)\n",
    "  * find the coordinates of the points that lie <font color=\"green\"><b>OUTSIDE</b></font> the unit-circle\n",
    "  * set the coordinates of the point that lie <font color=\"green\"><b>WITHIN</b></font> the unit-circle to (0.,0.)\n",
    "  \n",
    "* Generate a 6x8 array of random numbers $\\in$ [0,1[.<br>\n",
    "  * For each row find the number closest to 0.5<br>\n",
    "    (Use fancy indexing to extract the numbers)\n",
    "  * <b>HINT</b>: np.abs, np.argmin  "
   ]
  },
  {
   "cell_type": "markdown",
   "metadata": {},
   "source": [
    "### Solutions:"
   ]
  },
  {
   "cell_type": "code",
   "execution_count": null,
   "metadata": {},
   "outputs": [],
   "source": [
    "# %load ../solutions/ex6.py"
   ]
  }
 ],
 "metadata": {
  "kernelspec": {
   "display_name": "Python 3",
   "language": "python",
   "name": "python3"
  },
  "language_info": {
   "codemirror_mode": {
    "name": "ipython",
    "version": 3
   },
   "file_extension": ".py",
   "mimetype": "text/x-python",
   "name": "python",
   "nbconvert_exporter": "python",
   "pygments_lexer": "ipython3",
   "version": "3.6.5"
  }
 },
 "nbformat": 4,
 "nbformat_minor": 2
}
